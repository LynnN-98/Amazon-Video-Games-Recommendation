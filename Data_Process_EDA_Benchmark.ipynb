{
 "cells": [
  {
   "cell_type": "code",
   "execution_count": 1,
   "metadata": {
    "ExecuteTime": {
     "end_time": "2021-04-26T03:01:43.749089Z",
     "start_time": "2021-04-26T03:01:43.145074Z"
    }
   },
   "outputs": [],
   "source": [
    "import os\n",
    "import gzip\n",
    "import json\n",
    "import pandas as pd\n",
    "import numpy as np\n",
    "import pickle\n",
    "\n",
    "import matplotlib.pyplot as plt\n",
    "\n",
    "# In \"utils\" there are functions and variables common to the project\n",
    "# use data_porter to read and parse csv files\n",
    "# use init so it can be called as package.\n",
    "from config import RAW_DIR, PRE_DIR, RES_DIR\n",
    "from utils.data_porter import read_from_csv, save_to_csv\n",
    "\n",
    "from IPython.core.interactiveshell import InteractiveShell\n",
    "InteractiveShell.ast_node_interactivity = \"all\" "
   ]
  },
  {
   "cell_type": "markdown",
   "metadata": {},
   "source": [
    "# Get Raw data"
   ]
  },
  {
   "cell_type": "code",
   "execution_count": 2,
   "metadata": {
    "ExecuteTime": {
     "end_time": "2021-04-26T03:01:43.753342Z",
     "start_time": "2021-04-26T03:01:43.750742Z"
    }
   },
   "outputs": [],
   "source": [
    "df_rating_dir = os.path.join(RAW_DIR, 'Video_Games.csv')\n",
    "gz_review_dir = os.path.join(RAW_DIR, 'Video_Games_5.json.gz')"
   ]
  },
  {
   "cell_type": "code",
   "execution_count": 3,
   "metadata": {
    "ExecuteTime": {
     "end_time": "2021-04-26T03:01:46.214106Z",
     "start_time": "2021-04-26T03:01:43.755732Z"
    }
   },
   "outputs": [],
   "source": [
    "rating_data = read_from_csv(df_rating_dir, header=None, names=['ProductID', 'ReviewerID', 'Rating', 'TimeStamp'], )\n",
    "rating_data['TimeStamp'] = pd.to_datetime(rating_data.TimeStamp, unit='s')\n",
    "rating_data = rating_data.sort_values(by='TimeStamp')"
   ]
  },
  {
   "cell_type": "code",
   "execution_count": 4,
   "metadata": {
    "ExecuteTime": {
     "end_time": "2021-04-26T03:01:59.827414Z",
     "start_time": "2021-04-26T03:01:46.215951Z"
    }
   },
   "outputs": [],
   "source": [
    "def parse(path):\n",
    "    g = gzip.open(path, 'rb')\n",
    "    for l in g:\n",
    "        yield json.loads(l)\n",
    "\n",
    "def getDF(path):\n",
    "    i = 0\n",
    "    df = {}\n",
    "    for d in parse(path):\n",
    "        df[i] = d\n",
    "        i += 1\n",
    "    return pd.DataFrame.from_dict(df, orient='index')\n",
    "\n",
    "review_data = getDF(gz_review_dir)\n",
    "review_data['reviewTime'] = pd.to_datetime(review_data.unixReviewTime, unit='s')\n",
    "review_data = review_data.sort_values(by='reviewTime')"
   ]
  },
  {
   "cell_type": "markdown",
   "metadata": {},
   "source": [
    "# Exploratory Data Analysis (EDA)"
   ]
  },
  {
   "cell_type": "markdown",
   "metadata": {},
   "source": [
    "## The Dataset Overall"
   ]
  },
  {
   "cell_type": "code",
   "execution_count": 5,
   "metadata": {},
   "outputs": [
    {
     "data": {
      "text/plain": [
       "(2565349, 4)"
      ]
     },
     "execution_count": 5,
     "metadata": {},
     "output_type": "execute_result"
    },
    {
     "data": {
      "text/plain": [
       "Timestamp('1997-11-08 00:00:00')"
      ]
     },
     "execution_count": 5,
     "metadata": {},
     "output_type": "execute_result"
    },
    {
     "data": {
      "text/plain": [
       "Timestamp('2018-10-02 00:00:00')"
      ]
     },
     "execution_count": 5,
     "metadata": {},
     "output_type": "execute_result"
    },
    {
     "data": {
      "text/html": [
       "<div>\n",
       "<style scoped>\n",
       "    .dataframe tbody tr th:only-of-type {\n",
       "        vertical-align: middle;\n",
       "    }\n",
       "\n",
       "    .dataframe tbody tr th {\n",
       "        vertical-align: top;\n",
       "    }\n",
       "\n",
       "    .dataframe thead th {\n",
       "        text-align: right;\n",
       "    }\n",
       "</style>\n",
       "<table border=\"1\" class=\"dataframe\">\n",
       "  <thead>\n",
       "    <tr style=\"text-align: right;\">\n",
       "      <th></th>\n",
       "      <th>ProductID</th>\n",
       "      <th>ReviewerID</th>\n",
       "      <th>Rating</th>\n",
       "      <th>TimeStamp</th>\n",
       "    </tr>\n",
       "  </thead>\n",
       "  <tbody>\n",
       "    <tr>\n",
       "      <th>10503</th>\n",
       "      <td>B00000JL6V</td>\n",
       "      <td>AR9HFLYSXUOYS</td>\n",
       "      <td>5.0</td>\n",
       "      <td>1997-11-08</td>\n",
       "    </tr>\n",
       "    <tr>\n",
       "      <th>10502</th>\n",
       "      <td>B00000JL6V</td>\n",
       "      <td>A26Y5BK10TL1OI</td>\n",
       "      <td>5.0</td>\n",
       "      <td>1997-11-29</td>\n",
       "    </tr>\n",
       "    <tr>\n",
       "      <th>10501</th>\n",
       "      <td>B00000JL6V</td>\n",
       "      <td>A3VMPX6KW6VSQY</td>\n",
       "      <td>5.0</td>\n",
       "      <td>1997-12-12</td>\n",
       "    </tr>\n",
       "    <tr>\n",
       "      <th>10500</th>\n",
       "      <td>B00000JL6V</td>\n",
       "      <td>A3N83WBSOG9PE4</td>\n",
       "      <td>1.0</td>\n",
       "      <td>1997-12-14</td>\n",
       "    </tr>\n",
       "    <tr>\n",
       "      <th>10499</th>\n",
       "      <td>B00000JL6V</td>\n",
       "      <td>A2Q6FRINMH0R81</td>\n",
       "      <td>4.0</td>\n",
       "      <td>1997-12-16</td>\n",
       "    </tr>\n",
       "  </tbody>\n",
       "</table>\n",
       "</div>"
      ],
      "text/plain": [
       "        ProductID      ReviewerID  Rating  TimeStamp\n",
       "10503  B00000JL6V   AR9HFLYSXUOYS     5.0 1997-11-08\n",
       "10502  B00000JL6V  A26Y5BK10TL1OI     5.0 1997-11-29\n",
       "10501  B00000JL6V  A3VMPX6KW6VSQY     5.0 1997-12-12\n",
       "10500  B00000JL6V  A3N83WBSOG9PE4     1.0 1997-12-14\n",
       "10499  B00000JL6V  A2Q6FRINMH0R81     4.0 1997-12-16"
      ]
     },
     "execution_count": 5,
     "metadata": {},
     "output_type": "execute_result"
    }
   ],
   "source": [
    "rating_data.shape\n",
    "rating_data.TimeStamp.min()\n",
    "rating_data.TimeStamp.max()\n",
    "rating_data.head()"
   ]
  },
  {
   "cell_type": "code",
   "execution_count": 6,
   "metadata": {},
   "outputs": [
    {
     "data": {
      "text/plain": [
       "(497577, 12)"
      ]
     },
     "execution_count": 6,
     "metadata": {},
     "output_type": "execute_result"
    },
    {
     "data": {
      "text/plain": [
       "Timestamp('1999-10-14 00:00:00')"
      ]
     },
     "execution_count": 6,
     "metadata": {},
     "output_type": "execute_result"
    },
    {
     "data": {
      "text/plain": [
       "Timestamp('2018-10-02 00:00:00')"
      ]
     },
     "execution_count": 6,
     "metadata": {},
     "output_type": "execute_result"
    },
    {
     "data": {
      "text/html": [
       "<div>\n",
       "<style scoped>\n",
       "    .dataframe tbody tr th:only-of-type {\n",
       "        vertical-align: middle;\n",
       "    }\n",
       "\n",
       "    .dataframe tbody tr th {\n",
       "        vertical-align: top;\n",
       "    }\n",
       "\n",
       "    .dataframe thead th {\n",
       "        text-align: right;\n",
       "    }\n",
       "</style>\n",
       "<table border=\"1\" class=\"dataframe\">\n",
       "  <thead>\n",
       "    <tr style=\"text-align: right;\">\n",
       "      <th></th>\n",
       "      <th>overall</th>\n",
       "      <th>verified</th>\n",
       "      <th>reviewTime</th>\n",
       "      <th>reviewerID</th>\n",
       "      <th>asin</th>\n",
       "      <th>reviewerName</th>\n",
       "      <th>reviewText</th>\n",
       "      <th>summary</th>\n",
       "      <th>unixReviewTime</th>\n",
       "      <th>vote</th>\n",
       "      <th>style</th>\n",
       "      <th>image</th>\n",
       "    </tr>\n",
       "  </thead>\n",
       "  <tbody>\n",
       "    <tr>\n",
       "      <th>6043</th>\n",
       "      <td>5.0</td>\n",
       "      <td>False</td>\n",
       "      <td>1999-10-14</td>\n",
       "      <td>A2AXQTB83VMK4L</td>\n",
       "      <td>B0000296O5</td>\n",
       "      <td>Amazon Customer</td>\n",
       "      <td>I'm having the most fun I've ever had on PlayS...</td>\n",
       "      <td>Best RPG Ever!</td>\n",
       "      <td>939859200</td>\n",
       "      <td>NaN</td>\n",
       "      <td>{'Format:': ' Video Game'}</td>\n",
       "      <td>NaN</td>\n",
       "    </tr>\n",
       "    <tr>\n",
       "      <th>6978</th>\n",
       "      <td>4.0</td>\n",
       "      <td>False</td>\n",
       "      <td>1999-11-05</td>\n",
       "      <td>A2T04VAIXSKJH2</td>\n",
       "      <td>B00002NDRY</td>\n",
       "      <td>Stefan</td>\n",
       "      <td>I'm usually not crazy about real-time strategy...</td>\n",
       "      <td>Good real time strategy game</td>\n",
       "      <td>941760000</td>\n",
       "      <td>3</td>\n",
       "      <td>NaN</td>\n",
       "      <td>NaN</td>\n",
       "    </tr>\n",
       "    <tr>\n",
       "      <th>5993</th>\n",
       "      <td>4.0</td>\n",
       "      <td>False</td>\n",
       "      <td>1999-11-10</td>\n",
       "      <td>AMGJMFJ63DWWH</td>\n",
       "      <td>B000021XYY</td>\n",
       "      <td>Ed Matuskey</td>\n",
       "      <td>This game actually scared me a couple times, a...</td>\n",
       "      <td>A good game, but way too short!</td>\n",
       "      <td>942192000</td>\n",
       "      <td>10</td>\n",
       "      <td>NaN</td>\n",
       "      <td>NaN</td>\n",
       "    </tr>\n",
       "    <tr>\n",
       "      <th>5861</th>\n",
       "      <td>5.0</td>\n",
       "      <td>False</td>\n",
       "      <td>1999-11-10</td>\n",
       "      <td>A1QA8K3LD9K892</td>\n",
       "      <td>B000021Y5F</td>\n",
       "      <td>Chris Adamson</td>\n",
       "      <td>Williams made games for hard-core arcade gamer...</td>\n",
       "      <td>A cool 80's artifact</td>\n",
       "      <td>942192000</td>\n",
       "      <td>68</td>\n",
       "      <td>NaN</td>\n",
       "      <td>NaN</td>\n",
       "    </tr>\n",
       "    <tr>\n",
       "      <th>4124</th>\n",
       "      <td>5.0</td>\n",
       "      <td>True</td>\n",
       "      <td>1999-11-10</td>\n",
       "      <td>A3VWWQT4XDSBGQ</td>\n",
       "      <td>B00000K4AX</td>\n",
       "      <td>Joshua W. Fenton</td>\n",
       "      <td>If you loved Half-Life, this is a must buy. I ...</td>\n",
       "      <td>AWESOME!</td>\n",
       "      <td>942192000</td>\n",
       "      <td>5</td>\n",
       "      <td>NaN</td>\n",
       "      <td>NaN</td>\n",
       "    </tr>\n",
       "  </tbody>\n",
       "</table>\n",
       "</div>"
      ],
      "text/plain": [
       "      overall  verified reviewTime      reviewerID        asin  \\\n",
       "6043      5.0     False 1999-10-14  A2AXQTB83VMK4L  B0000296O5   \n",
       "6978      4.0     False 1999-11-05  A2T04VAIXSKJH2  B00002NDRY   \n",
       "5993      4.0     False 1999-11-10   AMGJMFJ63DWWH  B000021XYY   \n",
       "5861      5.0     False 1999-11-10  A1QA8K3LD9K892  B000021Y5F   \n",
       "4124      5.0      True 1999-11-10  A3VWWQT4XDSBGQ  B00000K4AX   \n",
       "\n",
       "          reviewerName                                         reviewText  \\\n",
       "6043   Amazon Customer  I'm having the most fun I've ever had on PlayS...   \n",
       "6978            Stefan  I'm usually not crazy about real-time strategy...   \n",
       "5993       Ed Matuskey  This game actually scared me a couple times, a...   \n",
       "5861     Chris Adamson  Williams made games for hard-core arcade gamer...   \n",
       "4124  Joshua W. Fenton  If you loved Half-Life, this is a must buy. I ...   \n",
       "\n",
       "                              summary  unixReviewTime vote  \\\n",
       "6043                   Best RPG Ever!       939859200  NaN   \n",
       "6978     Good real time strategy game       941760000    3   \n",
       "5993  A good game, but way too short!       942192000   10   \n",
       "5861             A cool 80's artifact       942192000   68   \n",
       "4124                         AWESOME!       942192000    5   \n",
       "\n",
       "                           style image  \n",
       "6043  {'Format:': ' Video Game'}   NaN  \n",
       "6978                         NaN   NaN  \n",
       "5993                         NaN   NaN  \n",
       "5861                         NaN   NaN  \n",
       "4124                         NaN   NaN  "
      ]
     },
     "execution_count": 6,
     "metadata": {},
     "output_type": "execute_result"
    }
   ],
   "source": [
    "review_data.shape\n",
    "review_data.reviewTime.min()\n",
    "review_data.reviewTime.max()\n",
    "review_data.head()"
   ]
  },
  {
   "cell_type": "code",
   "execution_count": 7,
   "metadata": {
    "scrolled": true
   },
   "outputs": [
    {
     "data": {
      "text/plain": [
       "(23937, 3)"
      ]
     },
     "execution_count": 7,
     "metadata": {},
     "output_type": "execute_result"
    },
    {
     "data": {
      "text/plain": [
       "(449490, 3)"
      ]
     },
     "execution_count": 7,
     "metadata": {},
     "output_type": "execute_result"
    }
   ],
   "source": [
    "counts = review_data[['asin', 'reviewerID']].value_counts().reset_index()\n",
    "counts.columns = ['asin', 'reviewerID', 're_counts']\n",
    "counts[counts['re_counts'] > 1].shape\n",
    "counts[counts['re_counts'] == 1].shape"
   ]
  },
  {
   "cell_type": "code",
   "execution_count": 8,
   "metadata": {
    "scrolled": true
   },
   "outputs": [
    {
     "data": {
      "text/html": [
       "<div>\n",
       "<style scoped>\n",
       "    .dataframe tbody tr th:only-of-type {\n",
       "        vertical-align: middle;\n",
       "    }\n",
       "\n",
       "    .dataframe tbody tr th {\n",
       "        vertical-align: top;\n",
       "    }\n",
       "\n",
       "    .dataframe thead th {\n",
       "        text-align: right;\n",
       "    }\n",
       "</style>\n",
       "<table border=\"1\" class=\"dataframe\">\n",
       "  <thead>\n",
       "    <tr style=\"text-align: right;\">\n",
       "      <th></th>\n",
       "      <th>overall</th>\n",
       "      <th>verified</th>\n",
       "      <th>reviewTime</th>\n",
       "      <th>reviewerID</th>\n",
       "      <th>asin</th>\n",
       "      <th>reviewerName</th>\n",
       "      <th>reviewText</th>\n",
       "      <th>summary</th>\n",
       "      <th>unixReviewTime</th>\n",
       "      <th>vote</th>\n",
       "      <th>style</th>\n",
       "      <th>image</th>\n",
       "    </tr>\n",
       "  </thead>\n",
       "  <tbody>\n",
       "    <tr>\n",
       "      <th>493405</th>\n",
       "      <td>5.0</td>\n",
       "      <td>True</td>\n",
       "      <td>2018-08-02</td>\n",
       "      <td>A14KKV5U5XSHXY</td>\n",
       "      <td>B00SN1QEGW</td>\n",
       "      <td>Amazoncustomer</td>\n",
       "      <td>Love this pro controller, its very confortable...</td>\n",
       "      <td>Great controller incredible battery.</td>\n",
       "      <td>1533168000</td>\n",
       "      <td>NaN</td>\n",
       "      <td>{'Color:': ' gray-16'}</td>\n",
       "      <td>NaN</td>\n",
       "    </tr>\n",
       "    <tr>\n",
       "      <th>390197</th>\n",
       "      <td>5.0</td>\n",
       "      <td>True</td>\n",
       "      <td>2018-08-02</td>\n",
       "      <td>A14KKV5U5XSHXY</td>\n",
       "      <td>B00SN1QEGW</td>\n",
       "      <td>Amazoncustomer</td>\n",
       "      <td>My son has wanted these for months. We finally...</td>\n",
       "      <td>Son loves it.</td>\n",
       "      <td>1533168000</td>\n",
       "      <td>NaN</td>\n",
       "      <td>{'Color:': ' black8'}</td>\n",
       "      <td>NaN</td>\n",
       "    </tr>\n",
       "    <tr>\n",
       "      <th>390210</th>\n",
       "      <td>5.0</td>\n",
       "      <td>True</td>\n",
       "      <td>2018-08-02</td>\n",
       "      <td>A14KKV5U5XSHXY</td>\n",
       "      <td>B00SN1QEGW</td>\n",
       "      <td>Amazoncustomer</td>\n",
       "      <td>I like the placement of the sticks and it does...</td>\n",
       "      <td>Solid Controller</td>\n",
       "      <td>1533168000</td>\n",
       "      <td>NaN</td>\n",
       "      <td>{'Color:': ' red-22'}</td>\n",
       "      <td>NaN</td>\n",
       "    </tr>\n",
       "    <tr>\n",
       "      <th>390209</th>\n",
       "      <td>5.0</td>\n",
       "      <td>True</td>\n",
       "      <td>2018-08-02</td>\n",
       "      <td>A14KKV5U5XSHXY</td>\n",
       "      <td>B00SN1QEGW</td>\n",
       "      <td>Amazoncustomer</td>\n",
       "      <td>I love this thing. The material is grippy but ...</td>\n",
       "      <td>I love this thing</td>\n",
       "      <td>1533168000</td>\n",
       "      <td>NaN</td>\n",
       "      <td>{'Color:': ' red-23'}</td>\n",
       "      <td>NaN</td>\n",
       "    </tr>\n",
       "    <tr>\n",
       "      <th>390200</th>\n",
       "      <td>5.0</td>\n",
       "      <td>True</td>\n",
       "      <td>2018-08-02</td>\n",
       "      <td>A14KKV5U5XSHXY</td>\n",
       "      <td>B00SN1QEGW</td>\n",
       "      <td>Amazoncustomer</td>\n",
       "      <td>Best control scheme to play games on wii u, af...</td>\n",
       "      <td>Best control for big games.</td>\n",
       "      <td>1533168000</td>\n",
       "      <td>NaN</td>\n",
       "      <td>{'Color:': ' red-33'}</td>\n",
       "      <td>NaN</td>\n",
       "    </tr>\n",
       "    <tr>\n",
       "      <th>...</th>\n",
       "      <td>...</td>\n",
       "      <td>...</td>\n",
       "      <td>...</td>\n",
       "      <td>...</td>\n",
       "      <td>...</td>\n",
       "      <td>...</td>\n",
       "      <td>...</td>\n",
       "      <td>...</td>\n",
       "      <td>...</td>\n",
       "      <td>...</td>\n",
       "      <td>...</td>\n",
       "      <td>...</td>\n",
       "    </tr>\n",
       "    <tr>\n",
       "      <th>390234</th>\n",
       "      <td>5.0</td>\n",
       "      <td>True</td>\n",
       "      <td>2018-08-02</td>\n",
       "      <td>A14KKV5U5XSHXY</td>\n",
       "      <td>B00SN1QEGW</td>\n",
       "      <td>Amazoncustomer</td>\n",
       "      <td>No issues with this controller- works just as ...</td>\n",
       "      <td>Works great and feels nice</td>\n",
       "      <td>1533168000</td>\n",
       "      <td>NaN</td>\n",
       "      <td>{'Color:': ' gray-66'}</td>\n",
       "      <td>NaN</td>\n",
       "    </tr>\n",
       "    <tr>\n",
       "      <th>390193</th>\n",
       "      <td>5.0</td>\n",
       "      <td>True</td>\n",
       "      <td>2018-08-02</td>\n",
       "      <td>A14KKV5U5XSHXY</td>\n",
       "      <td>B00SN1QEGW</td>\n",
       "      <td>Amazoncustomer</td>\n",
       "      <td>really nice controller. Very glad that it is r...</td>\n",
       "      <td>Five Stars</td>\n",
       "      <td>1533168000</td>\n",
       "      <td>NaN</td>\n",
       "      <td>{'Color:': ' black12'}</td>\n",
       "      <td>NaN</td>\n",
       "    </tr>\n",
       "    <tr>\n",
       "      <th>390194</th>\n",
       "      <td>5.0</td>\n",
       "      <td>True</td>\n",
       "      <td>2018-08-02</td>\n",
       "      <td>A14KKV5U5XSHXY</td>\n",
       "      <td>B00SN1QEGW</td>\n",
       "      <td>Amazoncustomer</td>\n",
       "      <td>My son loves this controller and loves the fac...</td>\n",
       "      <td>Great controller!</td>\n",
       "      <td>1533168000</td>\n",
       "      <td>NaN</td>\n",
       "      <td>{'Color:': ' red-14'}</td>\n",
       "      <td>NaN</td>\n",
       "    </tr>\n",
       "    <tr>\n",
       "      <th>390233</th>\n",
       "      <td>5.0</td>\n",
       "      <td>True</td>\n",
       "      <td>2018-08-02</td>\n",
       "      <td>A14KKV5U5XSHXY</td>\n",
       "      <td>B00SN1QEGW</td>\n",
       "      <td>Amazoncustomer</td>\n",
       "      <td>Love these controllers, they are just as good ...</td>\n",
       "      <td>Love these controllers</td>\n",
       "      <td>1533168000</td>\n",
       "      <td>NaN</td>\n",
       "      <td>{'Color:': ' red-6'}</td>\n",
       "      <td>NaN</td>\n",
       "    </tr>\n",
       "    <tr>\n",
       "      <th>390219</th>\n",
       "      <td>5.0</td>\n",
       "      <td>False</td>\n",
       "      <td>2018-08-02</td>\n",
       "      <td>A14KKV5U5XSHXY</td>\n",
       "      <td>B00SN1QEGW</td>\n",
       "      <td>Amazoncustomer</td>\n",
       "      <td>I bought the official Nintendo pro controller ...</td>\n",
       "      <td>Best third party controller I've ever owned.</td>\n",
       "      <td>1533168000</td>\n",
       "      <td>NaN</td>\n",
       "      <td>{'Color:': ' red-13'}</td>\n",
       "      <td>NaN</td>\n",
       "    </tr>\n",
       "  </tbody>\n",
       "</table>\n",
       "<p>70 rows × 12 columns</p>\n",
       "</div>"
      ],
      "text/plain": [
       "        overall  verified reviewTime      reviewerID        asin  \\\n",
       "493405      5.0      True 2018-08-02  A14KKV5U5XSHXY  B00SN1QEGW   \n",
       "390197      5.0      True 2018-08-02  A14KKV5U5XSHXY  B00SN1QEGW   \n",
       "390210      5.0      True 2018-08-02  A14KKV5U5XSHXY  B00SN1QEGW   \n",
       "390209      5.0      True 2018-08-02  A14KKV5U5XSHXY  B00SN1QEGW   \n",
       "390200      5.0      True 2018-08-02  A14KKV5U5XSHXY  B00SN1QEGW   \n",
       "...         ...       ...        ...             ...         ...   \n",
       "390234      5.0      True 2018-08-02  A14KKV5U5XSHXY  B00SN1QEGW   \n",
       "390193      5.0      True 2018-08-02  A14KKV5U5XSHXY  B00SN1QEGW   \n",
       "390194      5.0      True 2018-08-02  A14KKV5U5XSHXY  B00SN1QEGW   \n",
       "390233      5.0      True 2018-08-02  A14KKV5U5XSHXY  B00SN1QEGW   \n",
       "390219      5.0     False 2018-08-02  A14KKV5U5XSHXY  B00SN1QEGW   \n",
       "\n",
       "          reviewerName                                         reviewText  \\\n",
       "493405  Amazoncustomer  Love this pro controller, its very confortable...   \n",
       "390197  Amazoncustomer  My son has wanted these for months. We finally...   \n",
       "390210  Amazoncustomer  I like the placement of the sticks and it does...   \n",
       "390209  Amazoncustomer  I love this thing. The material is grippy but ...   \n",
       "390200  Amazoncustomer  Best control scheme to play games on wii u, af...   \n",
       "...                ...                                                ...   \n",
       "390234  Amazoncustomer  No issues with this controller- works just as ...   \n",
       "390193  Amazoncustomer  really nice controller. Very glad that it is r...   \n",
       "390194  Amazoncustomer  My son loves this controller and loves the fac...   \n",
       "390233  Amazoncustomer  Love these controllers, they are just as good ...   \n",
       "390219  Amazoncustomer  I bought the official Nintendo pro controller ...   \n",
       "\n",
       "                                             summary  unixReviewTime vote  \\\n",
       "493405          Great controller incredible battery.      1533168000  NaN   \n",
       "390197                                 Son loves it.      1533168000  NaN   \n",
       "390210                              Solid Controller      1533168000  NaN   \n",
       "390209                             I love this thing      1533168000  NaN   \n",
       "390200                   Best control for big games.      1533168000  NaN   \n",
       "...                                              ...             ...  ...   \n",
       "390234                    Works great and feels nice      1533168000  NaN   \n",
       "390193                                    Five Stars      1533168000  NaN   \n",
       "390194                             Great controller!      1533168000  NaN   \n",
       "390233                        Love these controllers      1533168000  NaN   \n",
       "390219  Best third party controller I've ever owned.      1533168000  NaN   \n",
       "\n",
       "                         style image  \n",
       "493405  {'Color:': ' gray-16'}   NaN  \n",
       "390197   {'Color:': ' black8'}   NaN  \n",
       "390210   {'Color:': ' red-22'}   NaN  \n",
       "390209   {'Color:': ' red-23'}   NaN  \n",
       "390200   {'Color:': ' red-33'}   NaN  \n",
       "...                        ...   ...  \n",
       "390234  {'Color:': ' gray-66'}   NaN  \n",
       "390193  {'Color:': ' black12'}   NaN  \n",
       "390194   {'Color:': ' red-14'}   NaN  \n",
       "390233    {'Color:': ' red-6'}   NaN  \n",
       "390219   {'Color:': ' red-13'}   NaN  \n",
       "\n",
       "[70 rows x 12 columns]"
      ]
     },
     "execution_count": 8,
     "metadata": {},
     "output_type": "execute_result"
    }
   ],
   "source": [
    "review_data[\n",
    "    (review_data['asin'] == 'B00SN1QEGW') & \n",
    "    (review_data['reviewerID'] == 'A14KKV5U5XSHXY')\n",
    "]"
   ]
  },
  {
   "cell_type": "code",
   "execution_count": 9,
   "metadata": {
    "scrolled": true
   },
   "outputs": [],
   "source": [
    "drop_dup_review = review_data.sort_values(\n",
    "    by='reviewTime', ascending=False).drop_duplicates(\n",
    "    subset=['reviewerID', 'asin', 'overall'], keep='first')"
   ]
  },
  {
   "cell_type": "code",
   "execution_count": 10,
   "metadata": {},
   "outputs": [
    {
     "data": {
      "text/plain": [
       "(133, 3)"
      ]
     },
     "execution_count": 10,
     "metadata": {},
     "output_type": "execute_result"
    },
    {
     "data": {
      "text/plain": [
       "(473294, 3)"
      ]
     },
     "execution_count": 10,
     "metadata": {},
     "output_type": "execute_result"
    }
   ],
   "source": [
    "counts = drop_dup_review[['asin', 'reviewerID']].value_counts().reset_index()\n",
    "counts.columns = ['asin', 'reviewerID', 're_counts']\n",
    "counts[counts['re_counts'] > 1].shape\n",
    "counts[counts['re_counts'] == 1].shape"
   ]
  },
  {
   "cell_type": "code",
   "execution_count": 11,
   "metadata": {},
   "outputs": [
    {
     "data": {
      "text/html": [
       "<div>\n",
       "<style scoped>\n",
       "    .dataframe tbody tr th:only-of-type {\n",
       "        vertical-align: middle;\n",
       "    }\n",
       "\n",
       "    .dataframe tbody tr th {\n",
       "        vertical-align: top;\n",
       "    }\n",
       "\n",
       "    .dataframe thead th {\n",
       "        text-align: right;\n",
       "    }\n",
       "</style>\n",
       "<table border=\"1\" class=\"dataframe\">\n",
       "  <thead>\n",
       "    <tr style=\"text-align: right;\">\n",
       "      <th></th>\n",
       "      <th>overall</th>\n",
       "      <th>verified</th>\n",
       "      <th>reviewTime</th>\n",
       "      <th>reviewerID</th>\n",
       "      <th>asin</th>\n",
       "      <th>reviewerName</th>\n",
       "      <th>reviewText</th>\n",
       "      <th>summary</th>\n",
       "      <th>unixReviewTime</th>\n",
       "      <th>vote</th>\n",
       "      <th>style</th>\n",
       "      <th>image</th>\n",
       "    </tr>\n",
       "  </thead>\n",
       "  <tbody>\n",
       "    <tr>\n",
       "      <th>103638</th>\n",
       "      <td>4.0</td>\n",
       "      <td>True</td>\n",
       "      <td>2015-02-23</td>\n",
       "      <td>A34UVV757IKPVB</td>\n",
       "      <td>B000P46NMK</td>\n",
       "      <td>Steve K</td>\n",
       "      <td>Same game as before, only now you're in Boston...</td>\n",
       "      <td>More of the same, only now in BOSTON!</td>\n",
       "      <td>1424649600</td>\n",
       "      <td>NaN</td>\n",
       "      <td>{'Format:': ' Video Game'}</td>\n",
       "      <td>NaN</td>\n",
       "    </tr>\n",
       "    <tr>\n",
       "      <th>104749</th>\n",
       "      <td>3.0</td>\n",
       "      <td>True</td>\n",
       "      <td>2010-04-21</td>\n",
       "      <td>A34UVV757IKPVB</td>\n",
       "      <td>B000P46NMK</td>\n",
       "      <td>Steve K</td>\n",
       "      <td>Pros: Graphics, movement of character.\\n\\nCons...</td>\n",
       "      <td>Repetitive and boring.</td>\n",
       "      <td>1271808000</td>\n",
       "      <td>NaN</td>\n",
       "      <td>{'Format:': ' Video Game'}</td>\n",
       "      <td>NaN</td>\n",
       "    </tr>\n",
       "  </tbody>\n",
       "</table>\n",
       "</div>"
      ],
      "text/plain": [
       "        overall  verified reviewTime      reviewerID        asin reviewerName  \\\n",
       "103638      4.0      True 2015-02-23  A34UVV757IKPVB  B000P46NMK      Steve K   \n",
       "104749      3.0      True 2010-04-21  A34UVV757IKPVB  B000P46NMK      Steve K   \n",
       "\n",
       "                                               reviewText  \\\n",
       "103638  Same game as before, only now you're in Boston...   \n",
       "104749  Pros: Graphics, movement of character.\\n\\nCons...   \n",
       "\n",
       "                                      summary  unixReviewTime vote  \\\n",
       "103638  More of the same, only now in BOSTON!      1424649600  NaN   \n",
       "104749                 Repetitive and boring.      1271808000  NaN   \n",
       "\n",
       "                             style image  \n",
       "103638  {'Format:': ' Video Game'}   NaN  \n",
       "104749  {'Format:': ' Video Game'}   NaN  "
      ]
     },
     "execution_count": 11,
     "metadata": {},
     "output_type": "execute_result"
    }
   ],
   "source": [
    "drop_dup_review[\n",
    "    (drop_dup_review['asin'] == 'B000P46NMK') &\n",
    "    (drop_dup_review['reviewerID'] == 'A34UVV757IKPVB')\n",
    "]"
   ]
  },
  {
   "cell_type": "markdown",
   "metadata": {},
   "source": [
    "Considering that users' preferences change over time, the latest ratings would be more significant to predict users' future preferences."
   ]
  },
  {
   "cell_type": "code",
   "execution_count": 12,
   "metadata": {},
   "outputs": [
    {
     "data": {
      "text/plain": [
       "473824"
      ]
     },
     "execution_count": 12,
     "metadata": {},
     "output_type": "execute_result"
    },
    {
     "data": {
      "text/html": [
       "<div>\n",
       "<style scoped>\n",
       "    .dataframe tbody tr th:only-of-type {\n",
       "        vertical-align: middle;\n",
       "    }\n",
       "\n",
       "    .dataframe tbody tr th {\n",
       "        vertical-align: top;\n",
       "    }\n",
       "\n",
       "    .dataframe thead th {\n",
       "        text-align: right;\n",
       "    }\n",
       "</style>\n",
       "<table border=\"1\" class=\"dataframe\">\n",
       "  <thead>\n",
       "    <tr style=\"text-align: right;\">\n",
       "      <th></th>\n",
       "      <th>overall</th>\n",
       "      <th>asin</th>\n",
       "      <th>reviewTime</th>\n",
       "      <th>reviewerID</th>\n",
       "      <th>reviewerName</th>\n",
       "      <th>reviewText</th>\n",
       "      <th>summary</th>\n",
       "    </tr>\n",
       "  </thead>\n",
       "  <tbody>\n",
       "    <tr>\n",
       "      <th>0</th>\n",
       "      <td>4.0</td>\n",
       "      <td>B01GVJTTAK</td>\n",
       "      <td>2018-10-02</td>\n",
       "      <td>AE0337VVP8MRM</td>\n",
       "      <td>Eric B. Borgman</td>\n",
       "      <td>These are a moderately good Stereo Headset for...</td>\n",
       "      <td>Pretty good.</td>\n",
       "    </tr>\n",
       "    <tr>\n",
       "      <th>1</th>\n",
       "      <td>5.0</td>\n",
       "      <td>B01GW8YDLK</td>\n",
       "      <td>2018-10-01</td>\n",
       "      <td>A1TCZLL90BWIWH</td>\n",
       "      <td>Erebor</td>\n",
       "      <td>It deserves its reviews. Great game play and g...</td>\n",
       "      <td>Gamers: don't miss this one!</td>\n",
       "    </tr>\n",
       "    <tr>\n",
       "      <th>2</th>\n",
       "      <td>4.0</td>\n",
       "      <td>B01GKF824Y</td>\n",
       "      <td>2018-10-01</td>\n",
       "      <td>A3R7Y70K7ZPJ3I</td>\n",
       "      <td>Speed E Byer</td>\n",
       "      <td>intense have to get use to the play action</td>\n",
       "      <td>Four Stars</td>\n",
       "    </tr>\n",
       "    <tr>\n",
       "      <th>3</th>\n",
       "      <td>5.0</td>\n",
       "      <td>B01GW3H3U8</td>\n",
       "      <td>2018-10-01</td>\n",
       "      <td>A1SDXNTHJ255P7</td>\n",
       "      <td>Rob G.</td>\n",
       "      <td>Upgrade from the original XB1 controller.  It ...</td>\n",
       "      <td>It feels much better in your</td>\n",
       "    </tr>\n",
       "    <tr>\n",
       "      <th>4</th>\n",
       "      <td>5.0</td>\n",
       "      <td>B01GW8YDLK</td>\n",
       "      <td>2018-09-30</td>\n",
       "      <td>ANS2OWH7CK1M9</td>\n",
       "      <td>Augi</td>\n",
       "      <td>I've never bought a Spider-Man game until now,...</td>\n",
       "      <td>An epic experience that sets the precedent on ...</td>\n",
       "    </tr>\n",
       "  </tbody>\n",
       "</table>\n",
       "</div>"
      ],
      "text/plain": [
       "   overall        asin reviewTime      reviewerID     reviewerName  \\\n",
       "0      4.0  B01GVJTTAK 2018-10-02   AE0337VVP8MRM  Eric B. Borgman   \n",
       "1      5.0  B01GW8YDLK 2018-10-01  A1TCZLL90BWIWH           Erebor   \n",
       "2      4.0  B01GKF824Y 2018-10-01  A3R7Y70K7ZPJ3I     Speed E Byer   \n",
       "3      5.0  B01GW3H3U8 2018-10-01  A1SDXNTHJ255P7           Rob G.   \n",
       "4      5.0  B01GW8YDLK 2018-09-30   ANS2OWH7CK1M9             Augi   \n",
       "\n",
       "                                          reviewText  \\\n",
       "0  These are a moderately good Stereo Headset for...   \n",
       "1  It deserves its reviews. Great game play and g...   \n",
       "2         intense have to get use to the play action   \n",
       "3  Upgrade from the original XB1 controller.  It ...   \n",
       "4  I've never bought a Spider-Man game until now,...   \n",
       "\n",
       "                                             summary  \n",
       "0                                       Pretty good.  \n",
       "1                       Gamers: don't miss this one!  \n",
       "2                                         Four Stars  \n",
       "3                       It feels much better in your  \n",
       "4  An epic experience that sets the precedent on ...  "
      ]
     },
     "execution_count": 12,
     "metadata": {},
     "output_type": "execute_result"
    }
   ],
   "source": [
    "latest_review = review_data.sort_values(\n",
    "    by='reviewTime', ascending=False).drop_duplicates(\n",
    "    subset=['reviewerID', 'asin', 'reviewTime'], keep='first').reset_index(drop=True)\n",
    "latest_review = latest_review[\n",
    "    ['overall', 'asin', 'reviewTime', 'reviewerID', 'reviewerName', 'reviewText', 'summary']\n",
    "]\n",
    "latest_review.shape[0]\n",
    "latest_review.head()"
   ]
  },
  {
   "cell_type": "code",
   "execution_count": 13,
   "metadata": {},
   "outputs": [],
   "source": [
    "person_prefer = latest_review.groupby('reviewerID').mean().reset_index()"
   ]
  },
  {
   "cell_type": "code",
   "execution_count": 14,
   "metadata": {},
   "outputs": [
    {
     "data": {
      "text/plain": [
       "0.7422488314803134"
      ]
     },
     "execution_count": 14,
     "metadata": {},
     "output_type": "execute_result"
    }
   ],
   "source": [
    "person_prefer['overall'].std()"
   ]
  },
  {
   "cell_type": "code",
   "execution_count": 15,
   "metadata": {},
   "outputs": [],
   "source": [
    "game_perform = latest_review.groupby('asin').mean().reset_index()"
   ]
  },
  {
   "cell_type": "code",
   "execution_count": 16,
   "metadata": {},
   "outputs": [
    {
     "data": {
      "text/plain": [
       "0.5670510666244033"
      ]
     },
     "execution_count": 16,
     "metadata": {},
     "output_type": "execute_result"
    }
   ],
   "source": [
    "game_perform['overall'].std()"
   ]
  },
  {
   "cell_type": "code",
   "execution_count": 17,
   "metadata": {},
   "outputs": [
    {
     "data": {
      "text/plain": [
       "5.0    286848\n",
       "4.0     88464\n",
       "3.0     46547\n",
       "1.0     29136\n",
       "2.0     22829\n",
       "Name: overall, dtype: int64"
      ]
     },
     "execution_count": 17,
     "metadata": {},
     "output_type": "execute_result"
    }
   ],
   "source": [
    "latest_review['overall'].value_counts()"
   ]
  },
  {
   "cell_type": "code",
   "execution_count": 18,
   "metadata": {},
   "outputs": [
    {
     "data": {
      "text/plain": [
       "<matplotlib.collections.PathCollection at 0x22d8459a0d0>"
      ]
     },
     "execution_count": 18,
     "metadata": {},
     "output_type": "execute_result"
    },
    {
     "data": {
      "text/plain": [
       "<matplotlib.legend.Legend at 0x22daf6ff7f0>"
      ]
     },
     "execution_count": 18,
     "metadata": {},
     "output_type": "execute_result"
    },
    {
     "data": {
      "image/png": "[encoded data removed]",
      "text/plain": [
       "<Figure size 432x288 with 1 Axes>"
      ]
     },
     "metadata": {
      "needs_background": "light"
     },
     "output_type": "display_data"
    }
   ],
   "source": [
    "latest_review = latest_review.sort_values(by='overall')\n",
    "plt.scatter(range(latest_review.shape[0]), latest_review['overall'], s=0.01, label='overall')\n",
    "plt.legend()"
   ]
  },
  {
   "cell_type": "markdown",
   "metadata": {},
   "source": [
    "## Review per person"
   ]
  },
  {
   "cell_type": "code",
   "execution_count": 19,
   "metadata": {
    "scrolled": true
   },
   "outputs": [
    {
     "name": "stdout",
     "output_type": "stream",
     "text": [
      "reviewer(total): 55223\n",
      "asin(num review < 10): 43222\n"
     ]
    },
    {
     "data": {
      "text/plain": [
       "5    16050\n",
       "6     9514\n",
       "7     6224\n",
       "8     4227\n",
       "4     3649\n",
       "9     2971\n",
       "3      576\n",
       "1        6\n",
       "2        5\n",
       "Name: num_review, dtype: int64"
      ]
     },
     "execution_count": 19,
     "metadata": {},
     "output_type": "execute_result"
    }
   ],
   "source": [
    "review_per_person = latest_review['reviewerID'].value_counts().reset_index()\n",
    "review_per_person.columns = ['reviewerID', 'num_review']\n",
    "print(f\"reviewer(total): {review_per_person.shape[0]}\")\n",
    "\n",
    "less_than_10 = review_per_person[review_per_person['num_review'] < 10]\n",
    "print(f\"asin(num review < 10): {less_than_10.shape[0]}\")\n",
    "less_than_10['num_review'].value_counts()"
   ]
  },
  {
   "cell_type": "code",
   "execution_count": 20,
   "metadata": {},
   "outputs": [
    {
     "data": {
      "text/plain": [
       "[<matplotlib.lines.Line2D at 0x22ded3fff40>]"
      ]
     },
     "execution_count": 20,
     "metadata": {},
     "output_type": "execute_result"
    },
    {
     "data": {
      "image/png": "[encoded data removed]",
      "text/plain": [
       "<Figure size 432x288 with 1 Axes>"
      ]
     },
     "metadata": {
      "needs_background": "light"
     },
     "output_type": "display_data"
    }
   ],
   "source": [
    "plt.plot(range(review_per_person.shape[0]), review_per_person['num_review'])"
   ]
  },
  {
   "cell_type": "markdown",
   "metadata": {},
   "source": [
    "## Criteria per person"
   ]
  },
  {
   "cell_type": "code",
   "execution_count": 21,
   "metadata": {},
   "outputs": [],
   "source": [
    "criteria_per_person = latest_review.groupby('reviewerID')['overall'].agg(\n",
    "    ['mean', 'std', 'count']).reset_index()\n",
    "criteria_per_person = criteria_per_person.fillna(0)"
   ]
  },
  {
   "cell_type": "code",
   "execution_count": 22,
   "metadata": {},
   "outputs": [
    {
     "data": {
      "text/plain": [
       "8.580193035510566"
      ]
     },
     "execution_count": 22,
     "metadata": {},
     "output_type": "execute_result"
    },
    {
     "data": {
      "text/plain": [
       "780"
      ]
     },
     "execution_count": 22,
     "metadata": {},
     "output_type": "execute_result"
    },
    {
     "data": {
      "text/plain": [
       "1"
      ]
     },
     "execution_count": 22,
     "metadata": {},
     "output_type": "execute_result"
    }
   ],
   "source": [
    "criteria_per_person['count'].mean()\n",
    "criteria_per_person['count'].max()\n",
    "criteria_per_person['count'].min()"
   ]
  },
  {
   "cell_type": "code",
   "execution_count": 23,
   "metadata": {
    "scrolled": true
   },
   "outputs": [
    {
     "data": {
      "text/plain": [
       "0.8237933296663164"
      ]
     },
     "execution_count": 23,
     "metadata": {},
     "output_type": "execute_result"
    },
    {
     "data": {
      "text/plain": [
       "2.8284271247461903"
      ]
     },
     "execution_count": 23,
     "metadata": {},
     "output_type": "execute_result"
    },
    {
     "data": {
      "text/plain": [
       "0.0"
      ]
     },
     "execution_count": 23,
     "metadata": {},
     "output_type": "execute_result"
    }
   ],
   "source": [
    "criteria_per_person['std'].mean()\n",
    "criteria_per_person['std'].max()\n",
    "criteria_per_person['std'].min()"
   ]
  },
  {
   "cell_type": "code",
   "execution_count": 24,
   "metadata": {},
   "outputs": [
    {
     "data": {
      "text/plain": [
       "<matplotlib.collections.PathCollection at 0x22d8dc1e430>"
      ]
     },
     "execution_count": 24,
     "metadata": {},
     "output_type": "execute_result"
    },
    {
     "data": {
      "text/plain": [
       "<matplotlib.collections.PathCollection at 0x22dde26b370>"
      ]
     },
     "execution_count": 24,
     "metadata": {},
     "output_type": "execute_result"
    },
    {
     "data": {
      "text/plain": [
       "<matplotlib.legend.Legend at 0x22dd2e958b0>"
      ]
     },
     "execution_count": 24,
     "metadata": {},
     "output_type": "execute_result"
    },
    {
     "data": {
      "image/png": "[encoded data removed]",
      "text/plain": [
       "<Figure size 432x288 with 1 Axes>"
      ]
     },
     "metadata": {
      "needs_background": "light"
     },
     "output_type": "display_data"
    }
   ],
   "source": [
    "criteria_per_person = criteria_per_person.sort_values(by='std')\n",
    "plt.scatter(range(criteria_per_person.shape[0]), criteria_per_person['mean'], s=0.001, label='mean')\n",
    "plt.scatter(range(criteria_per_person.shape[0]), criteria_per_person['std'], s=0.001, label='std')\n",
    "plt.legend()"
   ]
  },
  {
   "cell_type": "markdown",
   "metadata": {},
   "source": [
    "## Review per game"
   ]
  },
  {
   "cell_type": "code",
   "execution_count": 25,
   "metadata": {},
   "outputs": [
    {
     "name": "stdout",
     "output_type": "stream",
     "text": [
      "asin(total): 17408\n",
      "asin(num review < 10): 6880\n"
     ]
    },
    {
     "data": {
      "text/plain": [
       "5    1938\n",
       "6    1546\n",
       "7    1240\n",
       "8    1087\n",
       "9     881\n",
       "4      76\n",
       "3      43\n",
       "2      43\n",
       "1      26\n",
       "Name: num_review, dtype: int64"
      ]
     },
     "execution_count": 25,
     "metadata": {},
     "output_type": "execute_result"
    }
   ],
   "source": [
    "review_per_game = latest_review['asin'].value_counts().reset_index()\n",
    "review_per_game.columns = ['asin', 'num_review']\n",
    "print(f\"asin(total): {review_per_game.shape[0]}\")\n",
    "\n",
    "less_than_10 = review_per_game[review_per_game['num_review'] < 10]\n",
    "print(f\"asin(num review < 10): {less_than_10.shape[0]}\")\n",
    "less_than_10['num_review'].value_counts()"
   ]
  },
  {
   "cell_type": "code",
   "execution_count": 26,
   "metadata": {},
   "outputs": [
    {
     "data": {
      "text/plain": [
       "[<matplotlib.lines.Line2D at 0x22d8714ba00>]"
      ]
     },
     "execution_count": 26,
     "metadata": {},
     "output_type": "execute_result"
    },
    {
     "data": {
      "image/png": "[encoded data removed]",
      "text/plain": [
       "<Figure size 432x288 with 1 Axes>"
      ]
     },
     "metadata": {
      "needs_background": "light"
     },
     "output_type": "display_data"
    }
   ],
   "source": [
    "plt.plot(range(review_per_game.shape[0]), review_per_game['num_review'])"
   ]
  },
  {
   "cell_type": "markdown",
   "metadata": {},
   "source": [
    "## Performance per game"
   ]
  },
  {
   "cell_type": "code",
   "execution_count": 27,
   "metadata": {},
   "outputs": [],
   "source": [
    "perf_per_game = latest_review.groupby('asin')['overall'].agg(\n",
    "    ['mean', 'std', 'count']).reset_index()\n",
    "perf_per_game = perf_per_game.fillna(0)"
   ]
  },
  {
   "cell_type": "code",
   "execution_count": 28,
   "metadata": {},
   "outputs": [
    {
     "data": {
      "text/plain": [
       "27.21875"
      ]
     },
     "execution_count": 28,
     "metadata": {},
     "output_type": "execute_result"
    },
    {
     "data": {
      "text/plain": [
       "783"
      ]
     },
     "execution_count": 28,
     "metadata": {},
     "output_type": "execute_result"
    },
    {
     "data": {
      "text/plain": [
       "1"
      ]
     },
     "execution_count": 28,
     "metadata": {},
     "output_type": "execute_result"
    }
   ],
   "source": [
    "perf_per_game['count'].mean()\n",
    "perf_per_game['count'].max()\n",
    "perf_per_game['count'].min()"
   ]
  },
  {
   "cell_type": "code",
   "execution_count": 29,
   "metadata": {},
   "outputs": [
    {
     "data": {
      "text/plain": [
       "1.0618683680912842"
      ]
     },
     "execution_count": 29,
     "metadata": {},
     "output_type": "execute_result"
    },
    {
     "data": {
      "text/plain": [
       "2.8284271247461903"
      ]
     },
     "execution_count": 29,
     "metadata": {},
     "output_type": "execute_result"
    },
    {
     "data": {
      "text/plain": [
       "0.0"
      ]
     },
     "execution_count": 29,
     "metadata": {},
     "output_type": "execute_result"
    }
   ],
   "source": [
    "perf_per_game['std'].mean()\n",
    "perf_per_game['std'].max()\n",
    "perf_per_game['std'].min()"
   ]
  },
  {
   "cell_type": "code",
   "execution_count": 30,
   "metadata": {},
   "outputs": [
    {
     "data": {
      "text/plain": [
       "<matplotlib.collections.PathCollection at 0x22d8687f340>"
      ]
     },
     "execution_count": 30,
     "metadata": {},
     "output_type": "execute_result"
    },
    {
     "data": {
      "text/plain": [
       "<matplotlib.collections.PathCollection at 0x22d8687f730>"
      ]
     },
     "execution_count": 30,
     "metadata": {},
     "output_type": "execute_result"
    },
    {
     "data": {
      "text/plain": [
       "<matplotlib.legend.Legend at 0x22d869d47c0>"
      ]
     },
     "execution_count": 30,
     "metadata": {},
     "output_type": "execute_result"
    },
    {
     "data": {
      "image/png": "[encoded data removed]",
      "text/plain": [
       "<Figure size 432x288 with 1 Axes>"
      ]
     },
     "metadata": {
      "needs_background": "light"
     },
     "output_type": "display_data"
    }
   ],
   "source": [
    "perf_per_game = perf_per_game.sort_values(by='std')\n",
    "plt.scatter(range(perf_per_game.shape[0]), perf_per_game['mean'], s=0.01, label='mean')\n",
    "plt.scatter(range(perf_per_game.shape[0]), perf_per_game['std'], s=0.01, label='std')\n",
    "plt.legend()"
   ]
  },
  {
   "cell_type": "markdown",
   "metadata": {},
   "source": [
    "# Filter and Split Data"
   ]
  },
  {
   "cell_type": "markdown",
   "metadata": {},
   "source": [
    "According to the EDA, only retain users with more than 3 reviews, and products with more than 4 reviews."
   ]
  },
  {
   "cell_type": "code",
   "execution_count": 31,
   "metadata": {},
   "outputs": [],
   "source": [
    "keep_person = review_per_person[review_per_person['num_review'] > 3]\n",
    "keep_game = review_per_game[review_per_game['num_review'] > 4]"
   ]
  },
  {
   "cell_type": "code",
   "execution_count": 32,
   "metadata": {},
   "outputs": [
    {
     "data": {
      "text/plain": [
       "(473824, 7)"
      ]
     },
     "execution_count": 32,
     "metadata": {},
     "output_type": "execute_result"
    },
    {
     "data": {
      "text/plain": [
       "(472080, 8)"
      ]
     },
     "execution_count": 32,
     "metadata": {},
     "output_type": "execute_result"
    },
    {
     "data": {
      "text/plain": [
       "(471551, 9)"
      ]
     },
     "execution_count": 32,
     "metadata": {},
     "output_type": "execute_result"
    }
   ],
   "source": [
    "latest_review.shape\n",
    "filtered_review = pd.merge(latest_review, keep_person, on='reviewerID', how='inner')\n",
    "filtered_review.shape\n",
    "filtered_review = pd.merge(filtered_review, keep_game, on='asin', how='inner', suffixes=(\"_ps\", \"_gm\"))\n",
    "filtered_review.shape\n",
    "filtered_review = filtered_review.sort_values(by='reviewTime').reset_index(drop=True)"
   ]
  },
  {
   "cell_type": "code",
   "execution_count": 33,
   "metadata": {
    "scrolled": true
   },
   "outputs": [
    {
     "data": {
      "text/html": [
       "<div>\n",
       "<style scoped>\n",
       "    .dataframe tbody tr th:only-of-type {\n",
       "        vertical-align: middle;\n",
       "    }\n",
       "\n",
       "    .dataframe tbody tr th {\n",
       "        vertical-align: top;\n",
       "    }\n",
       "\n",
       "    .dataframe thead th {\n",
       "        text-align: right;\n",
       "    }\n",
       "</style>\n",
       "<table border=\"1\" class=\"dataframe\">\n",
       "  <thead>\n",
       "    <tr style=\"text-align: right;\">\n",
       "      <th></th>\n",
       "      <th>overall</th>\n",
       "      <th>asin</th>\n",
       "      <th>reviewTime</th>\n",
       "      <th>reviewerID</th>\n",
       "      <th>reviewerName</th>\n",
       "      <th>reviewText</th>\n",
       "      <th>summary</th>\n",
       "      <th>num_review_ps</th>\n",
       "      <th>num_review_gm</th>\n",
       "    </tr>\n",
       "  </thead>\n",
       "  <tbody>\n",
       "    <tr>\n",
       "      <th>0</th>\n",
       "      <td>5.0</td>\n",
       "      <td>B0000296O5</td>\n",
       "      <td>1999-10-14</td>\n",
       "      <td>A2AXQTB83VMK4L</td>\n",
       "      <td>Amazon Customer</td>\n",
       "      <td>I'm having the most fun I've ever had on PlayS...</td>\n",
       "      <td>Best RPG Ever!</td>\n",
       "      <td>6</td>\n",
       "      <td>268</td>\n",
       "    </tr>\n",
       "    <tr>\n",
       "      <th>1</th>\n",
       "      <td>4.0</td>\n",
       "      <td>B00002NDRY</td>\n",
       "      <td>1999-11-05</td>\n",
       "      <td>A2T04VAIXSKJH2</td>\n",
       "      <td>Stefan</td>\n",
       "      <td>I'm usually not crazy about real-time strategy...</td>\n",
       "      <td>Good real time strategy game</td>\n",
       "      <td>6</td>\n",
       "      <td>67</td>\n",
       "    </tr>\n",
       "    <tr>\n",
       "      <th>2</th>\n",
       "      <td>5.0</td>\n",
       "      <td>B000021Y5F</td>\n",
       "      <td>1999-11-10</td>\n",
       "      <td>A1QA8K3LD9K892</td>\n",
       "      <td>Chris Adamson</td>\n",
       "      <td>Williams made games for hard-core arcade gamer...</td>\n",
       "      <td>A cool 80's artifact</td>\n",
       "      <td>23</td>\n",
       "      <td>7</td>\n",
       "    </tr>\n",
       "    <tr>\n",
       "      <th>3</th>\n",
       "      <td>4.0</td>\n",
       "      <td>B00000JL6V</td>\n",
       "      <td>1999-11-10</td>\n",
       "      <td>AMGJMFJ63DWWH</td>\n",
       "      <td>Ed Matuskey</td>\n",
       "      <td>Once again you put your hand to the book, and ...</td>\n",
       "      <td>Beautiful game, with excellent (and hard!) puz...</td>\n",
       "      <td>5</td>\n",
       "      <td>37</td>\n",
       "    </tr>\n",
       "    <tr>\n",
       "      <th>4</th>\n",
       "      <td>5.0</td>\n",
       "      <td>B00000K4AX</td>\n",
       "      <td>1999-11-10</td>\n",
       "      <td>A3VWWQT4XDSBGQ</td>\n",
       "      <td>Joshua W. Fenton</td>\n",
       "      <td>If you loved Half-Life, this is a must buy. I ...</td>\n",
       "      <td>AWESOME!</td>\n",
       "      <td>5</td>\n",
       "      <td>26</td>\n",
       "    </tr>\n",
       "    <tr>\n",
       "      <th>...</th>\n",
       "      <td>...</td>\n",
       "      <td>...</td>\n",
       "      <td>...</td>\n",
       "      <td>...</td>\n",
       "      <td>...</td>\n",
       "      <td>...</td>\n",
       "      <td>...</td>\n",
       "      <td>...</td>\n",
       "      <td>...</td>\n",
       "    </tr>\n",
       "    <tr>\n",
       "      <th>471546</th>\n",
       "      <td>5.0</td>\n",
       "      <td>B01GW8YDLK</td>\n",
       "      <td>2018-09-30</td>\n",
       "      <td>ANS2OWH7CK1M9</td>\n",
       "      <td>Augi</td>\n",
       "      <td>I've never bought a Spider-Man game until now,...</td>\n",
       "      <td>An epic experience that sets the precedent on ...</td>\n",
       "      <td>6</td>\n",
       "      <td>68</td>\n",
       "    </tr>\n",
       "    <tr>\n",
       "      <th>471547</th>\n",
       "      <td>4.0</td>\n",
       "      <td>B01GKF824Y</td>\n",
       "      <td>2018-10-01</td>\n",
       "      <td>A3R7Y70K7ZPJ3I</td>\n",
       "      <td>Speed E Byer</td>\n",
       "      <td>intense have to get use to the play action</td>\n",
       "      <td>Four Stars</td>\n",
       "      <td>6</td>\n",
       "      <td>80</td>\n",
       "    </tr>\n",
       "    <tr>\n",
       "      <th>471548</th>\n",
       "      <td>5.0</td>\n",
       "      <td>B01GW3H3U8</td>\n",
       "      <td>2018-10-01</td>\n",
       "      <td>A1SDXNTHJ255P7</td>\n",
       "      <td>Rob G.</td>\n",
       "      <td>Upgrade from the original XB1 controller.  It ...</td>\n",
       "      <td>It feels much better in your</td>\n",
       "      <td>11</td>\n",
       "      <td>9</td>\n",
       "    </tr>\n",
       "    <tr>\n",
       "      <th>471549</th>\n",
       "      <td>5.0</td>\n",
       "      <td>B01GW8YDLK</td>\n",
       "      <td>2018-10-01</td>\n",
       "      <td>A1TCZLL90BWIWH</td>\n",
       "      <td>Erebor</td>\n",
       "      <td>It deserves its reviews. Great game play and g...</td>\n",
       "      <td>Gamers: don't miss this one!</td>\n",
       "      <td>9</td>\n",
       "      <td>68</td>\n",
       "    </tr>\n",
       "    <tr>\n",
       "      <th>471550</th>\n",
       "      <td>4.0</td>\n",
       "      <td>B01GVJTTAK</td>\n",
       "      <td>2018-10-02</td>\n",
       "      <td>AE0337VVP8MRM</td>\n",
       "      <td>Eric B. Borgman</td>\n",
       "      <td>These are a moderately good Stereo Headset for...</td>\n",
       "      <td>Pretty good.</td>\n",
       "      <td>8</td>\n",
       "      <td>20</td>\n",
       "    </tr>\n",
       "  </tbody>\n",
       "</table>\n",
       "<p>471551 rows × 9 columns</p>\n",
       "</div>"
      ],
      "text/plain": [
       "        overall        asin reviewTime      reviewerID      reviewerName  \\\n",
       "0           5.0  B0000296O5 1999-10-14  A2AXQTB83VMK4L   Amazon Customer   \n",
       "1           4.0  B00002NDRY 1999-11-05  A2T04VAIXSKJH2            Stefan   \n",
       "2           5.0  B000021Y5F 1999-11-10  A1QA8K3LD9K892     Chris Adamson   \n",
       "3           4.0  B00000JL6V 1999-11-10   AMGJMFJ63DWWH       Ed Matuskey   \n",
       "4           5.0  B00000K4AX 1999-11-10  A3VWWQT4XDSBGQ  Joshua W. Fenton   \n",
       "...         ...         ...        ...             ...               ...   \n",
       "471546      5.0  B01GW8YDLK 2018-09-30   ANS2OWH7CK1M9              Augi   \n",
       "471547      4.0  B01GKF824Y 2018-10-01  A3R7Y70K7ZPJ3I      Speed E Byer   \n",
       "471548      5.0  B01GW3H3U8 2018-10-01  A1SDXNTHJ255P7            Rob G.   \n",
       "471549      5.0  B01GW8YDLK 2018-10-01  A1TCZLL90BWIWH            Erebor   \n",
       "471550      4.0  B01GVJTTAK 2018-10-02   AE0337VVP8MRM   Eric B. Borgman   \n",
       "\n",
       "                                               reviewText  \\\n",
       "0       I'm having the most fun I've ever had on PlayS...   \n",
       "1       I'm usually not crazy about real-time strategy...   \n",
       "2       Williams made games for hard-core arcade gamer...   \n",
       "3       Once again you put your hand to the book, and ...   \n",
       "4       If you loved Half-Life, this is a must buy. I ...   \n",
       "...                                                   ...   \n",
       "471546  I've never bought a Spider-Man game until now,...   \n",
       "471547         intense have to get use to the play action   \n",
       "471548  Upgrade from the original XB1 controller.  It ...   \n",
       "471549  It deserves its reviews. Great game play and g...   \n",
       "471550  These are a moderately good Stereo Headset for...   \n",
       "\n",
       "                                                  summary  num_review_ps  \\\n",
       "0                                          Best RPG Ever!              6   \n",
       "1                            Good real time strategy game              6   \n",
       "2                                    A cool 80's artifact             23   \n",
       "3       Beautiful game, with excellent (and hard!) puz...              5   \n",
       "4                                                AWESOME!              5   \n",
       "...                                                   ...            ...   \n",
       "471546  An epic experience that sets the precedent on ...              6   \n",
       "471547                                         Four Stars              6   \n",
       "471548                       It feels much better in your             11   \n",
       "471549                       Gamers: don't miss this one!              9   \n",
       "471550                                       Pretty good.              8   \n",
       "\n",
       "        num_review_gm  \n",
       "0                 268  \n",
       "1                  67  \n",
       "2                   7  \n",
       "3                  37  \n",
       "4                  26  \n",
       "...               ...  \n",
       "471546             68  \n",
       "471547             80  \n",
       "471548              9  \n",
       "471549             68  \n",
       "471550             20  \n",
       "\n",
       "[471551 rows x 9 columns]"
      ]
     },
     "execution_count": 33,
     "metadata": {},
     "output_type": "execute_result"
    }
   ],
   "source": [
    "filtered_review"
   ]
  },
  {
   "cell_type": "markdown",
   "metadata": {},
   "source": [
    "Because we want to use historical data to predict the future, the test set should be more recent data. Split train set to test set equals to 9:1 according to the timestamp order."
   ]
  },
  {
   "cell_type": "code",
   "execution_count": 34,
   "metadata": {},
   "outputs": [
    {
     "data": {
      "text/plain": [
       "Timestamp('2017-01-16 00:00:00')"
      ]
     },
     "execution_count": 34,
     "metadata": {},
     "output_type": "execute_result"
    }
   ],
   "source": [
    "time_split = filtered_review.iloc[int(filtered_review.shape[0] * 0.9)]['reviewTime']\n",
    "time_split"
   ]
  },
  {
   "cell_type": "code",
   "execution_count": 35,
   "metadata": {},
   "outputs": [
    {
     "data": {
      "text/plain": [
       "(424371, 9)"
      ]
     },
     "execution_count": 35,
     "metadata": {},
     "output_type": "execute_result"
    },
    {
     "data": {
      "text/plain": [
       "(47180, 9)"
      ]
     },
     "execution_count": 35,
     "metadata": {},
     "output_type": "execute_result"
    }
   ],
   "source": [
    "train_data = filtered_review[filtered_review['reviewTime'] < '2017-01-16']\n",
    "train_data.shape\n",
    "test_data = filtered_review[filtered_review['reviewTime'] >= '2017-01-16']\n",
    "test_data.shape"
   ]
  },
  {
   "cell_type": "markdown",
   "metadata": {},
   "source": [
    "# Benchmark Without Model"
   ]
  },
  {
   "cell_type": "markdown",
   "metadata": {},
   "source": [
    "## Overall Average as Prediction"
   ]
  },
  {
   "cell_type": "code",
   "execution_count": 36,
   "metadata": {},
   "outputs": [],
   "source": [
    "from sklearn.metrics import mean_absolute_error as mae\n",
    "from sklearn.metrics import mean_squared_error as mse"
   ]
  },
  {
   "cell_type": "code",
   "execution_count": 37,
   "metadata": {},
   "outputs": [
    {
     "data": {
      "text/plain": [
       "4.215396433780819"
      ]
     },
     "execution_count": 37,
     "metadata": {},
     "output_type": "execute_result"
    }
   ],
   "source": [
    "overall_pred = train_data['overall'].mean()\n",
    "overall_pred"
   ]
  },
  {
   "cell_type": "code",
   "execution_count": 38,
   "metadata": {},
   "outputs": [],
   "source": [
    "def print_metrics(true_data, pred_data):\n",
    "    mae_score = mae(true_data, pred_data)\n",
    "    mse_score = mse(true_data, pred_data)\n",
    "    print(f\"MAE: {mae_score}\")\n",
    "    print(f\"MSE: {mse_score}\")\n",
    "    return mae_score, mse_score"
   ]
  },
  {
   "cell_type": "code",
   "execution_count": 39,
   "metadata": {},
   "outputs": [
    {
     "name": "stdout",
     "output_type": "stream",
     "text": [
      "MAE: 0.9455581435548924\n",
      "MSE: 1.3764813520696246\n"
     ]
    }
   ],
   "source": [
    "_, _ = print_metrics(test_data['overall'], np.array([overall_pred]*test_data.shape[0]))"
   ]
  },
  {
   "cell_type": "markdown",
   "metadata": {},
   "source": [
    "## Person Perference as Prediction"
   ]
  },
  {
   "cell_type": "code",
   "execution_count": 40,
   "metadata": {},
   "outputs": [
    {
     "data": {
      "text/html": [
       "<div>\n",
       "<style scoped>\n",
       "    .dataframe tbody tr th:only-of-type {\n",
       "        vertical-align: middle;\n",
       "    }\n",
       "\n",
       "    .dataframe tbody tr th {\n",
       "        vertical-align: top;\n",
       "    }\n",
       "\n",
       "    .dataframe thead th {\n",
       "        text-align: right;\n",
       "    }\n",
       "</style>\n",
       "<table border=\"1\" class=\"dataframe\">\n",
       "  <thead>\n",
       "    <tr style=\"text-align: right;\">\n",
       "      <th></th>\n",
       "      <th>reviewerID</th>\n",
       "      <th>pred_y</th>\n",
       "    </tr>\n",
       "  </thead>\n",
       "  <tbody>\n",
       "    <tr>\n",
       "      <th>0</th>\n",
       "      <td>A0059486XI1Z0P98KP35</td>\n",
       "      <td>5.000000</td>\n",
       "    </tr>\n",
       "    <tr>\n",
       "      <th>1</th>\n",
       "      <td>A0220159ZRNBTRKLG08H</td>\n",
       "      <td>4.600000</td>\n",
       "    </tr>\n",
       "    <tr>\n",
       "      <th>2</th>\n",
       "      <td>A0266076X6KPZ6CCHGVS</td>\n",
       "      <td>5.000000</td>\n",
       "    </tr>\n",
       "    <tr>\n",
       "      <th>3</th>\n",
       "      <td>A0277912HT4JSJKVSL3E</td>\n",
       "      <td>4.500000</td>\n",
       "    </tr>\n",
       "    <tr>\n",
       "      <th>4</th>\n",
       "      <td>A02836981FYG9912C66F</td>\n",
       "      <td>3.666667</td>\n",
       "    </tr>\n",
       "  </tbody>\n",
       "</table>\n",
       "</div>"
      ],
      "text/plain": [
       "             reviewerID    pred_y\n",
       "0  A0059486XI1Z0P98KP35  5.000000\n",
       "1  A0220159ZRNBTRKLG08H  4.600000\n",
       "2  A0266076X6KPZ6CCHGVS  5.000000\n",
       "3  A0277912HT4JSJKVSL3E  4.500000\n",
       "4  A02836981FYG9912C66F  3.666667"
      ]
     },
     "execution_count": 40,
     "metadata": {},
     "output_type": "execute_result"
    }
   ],
   "source": [
    "pred_person = train_data.groupby('reviewerID')['overall'].mean().reset_index()\n",
    "pred_person.columns = ['reviewerID', 'pred_y']\n",
    "pred_person.head()"
   ]
  },
  {
   "cell_type": "code",
   "execution_count": 41,
   "metadata": {},
   "outputs": [],
   "source": [
    "res_df = pd.merge(test_data[['overall', 'asin', 'reviewerID']], pred_person, \n",
    "                  on='reviewerID', how='left')\n",
    "res_df = res_df.fillna(overall_pred)"
   ]
  },
  {
   "cell_type": "code",
   "execution_count": 42,
   "metadata": {},
   "outputs": [
    {
     "name": "stdout",
     "output_type": "stream",
     "text": [
      "MAE: 0.8504287455197005\n",
      "MSE: 1.4525840055118444\n"
     ]
    }
   ],
   "source": [
    "_, _ = print_metrics(res_df['overall'], res_df['pred_y'])"
   ]
  },
  {
   "cell_type": "markdown",
   "metadata": {},
   "source": [
    "## Game Performance as Prediction"
   ]
  },
  {
   "cell_type": "code",
   "execution_count": 43,
   "metadata": {},
   "outputs": [
    {
     "data": {
      "text/html": [
       "<div>\n",
       "<style scoped>\n",
       "    .dataframe tbody tr th:only-of-type {\n",
       "        vertical-align: middle;\n",
       "    }\n",
       "\n",
       "    .dataframe tbody tr th {\n",
       "        vertical-align: top;\n",
       "    }\n",
       "\n",
       "    .dataframe thead th {\n",
       "        text-align: right;\n",
       "    }\n",
       "</style>\n",
       "<table border=\"1\" class=\"dataframe\">\n",
       "  <thead>\n",
       "    <tr style=\"text-align: right;\">\n",
       "      <th></th>\n",
       "      <th>asin</th>\n",
       "      <th>pred_y</th>\n",
       "    </tr>\n",
       "  </thead>\n",
       "  <tbody>\n",
       "    <tr>\n",
       "      <th>0</th>\n",
       "      <td>0700026398</td>\n",
       "      <td>3.125000</td>\n",
       "    </tr>\n",
       "    <tr>\n",
       "      <th>1</th>\n",
       "      <td>0700026657</td>\n",
       "      <td>3.583333</td>\n",
       "    </tr>\n",
       "    <tr>\n",
       "      <th>2</th>\n",
       "      <td>0700099867</td>\n",
       "      <td>3.300000</td>\n",
       "    </tr>\n",
       "    <tr>\n",
       "      <th>3</th>\n",
       "      <td>0804161380</td>\n",
       "      <td>4.826087</td>\n",
       "    </tr>\n",
       "    <tr>\n",
       "      <th>4</th>\n",
       "      <td>3828770193</td>\n",
       "      <td>4.333333</td>\n",
       "    </tr>\n",
       "  </tbody>\n",
       "</table>\n",
       "</div>"
      ],
      "text/plain": [
       "         asin    pred_y\n",
       "0  0700026398  3.125000\n",
       "1  0700026657  3.583333\n",
       "2  0700099867  3.300000\n",
       "3  0804161380  4.826087\n",
       "4  3828770193  4.333333"
      ]
     },
     "execution_count": 43,
     "metadata": {},
     "output_type": "execute_result"
    }
   ],
   "source": [
    "pred_game = train_data.groupby('asin')['overall'].mean().reset_index()\n",
    "pred_game.columns = ['asin', 'pred_y']\n",
    "pred_game.head()"
   ]
  },
  {
   "cell_type": "code",
   "execution_count": 44,
   "metadata": {},
   "outputs": [],
   "source": [
    "res_df = pd.merge(test_data[['overall', 'asin', 'reviewerID']], pred_game, \n",
    "                  on='asin', how='left')\n",
    "res_df = res_df.fillna(overall_pred)"
   ]
  },
  {
   "cell_type": "code",
   "execution_count": 45,
   "metadata": {},
   "outputs": [
    {
     "name": "stdout",
     "output_type": "stream",
     "text": [
      "MAE: 0.8898432407869299\n",
      "MSE: 1.4269795786381794\n"
     ]
    }
   ],
   "source": [
    "_, _ = print_metrics(res_df['overall'], res_df['pred_y'])"
   ]
  },
  {
   "cell_type": "markdown",
   "metadata": {},
   "source": [
    "## Combine Person and Game"
   ]
  },
  {
   "cell_type": "code",
   "execution_count": 46,
   "metadata": {},
   "outputs": [
    {
     "data": {
      "text/html": [
       "<div>\n",
       "<style scoped>\n",
       "    .dataframe tbody tr th:only-of-type {\n",
       "        vertical-align: middle;\n",
       "    }\n",
       "\n",
       "    .dataframe tbody tr th {\n",
       "        vertical-align: top;\n",
       "    }\n",
       "\n",
       "    .dataframe thead th {\n",
       "        text-align: right;\n",
       "    }\n",
       "</style>\n",
       "<table border=\"1\" class=\"dataframe\">\n",
       "  <thead>\n",
       "    <tr style=\"text-align: right;\">\n",
       "      <th></th>\n",
       "      <th>overall</th>\n",
       "      <th>asin</th>\n",
       "      <th>reviewerID</th>\n",
       "      <th>pred_y_ps</th>\n",
       "      <th>pred_y_gm</th>\n",
       "      <th>pred_y</th>\n",
       "    </tr>\n",
       "  </thead>\n",
       "  <tbody>\n",
       "    <tr>\n",
       "      <th>0</th>\n",
       "      <td>3.0</td>\n",
       "      <td>B00L59D9HG</td>\n",
       "      <td>A1JO2IPCY1J4PS</td>\n",
       "      <td>3.250000</td>\n",
       "      <td>4.689420</td>\n",
       "      <td>3.969710</td>\n",
       "    </tr>\n",
       "    <tr>\n",
       "      <th>1</th>\n",
       "      <td>5.0</td>\n",
       "      <td>B00005ATSN</td>\n",
       "      <td>ANVJU2ROVJC8A</td>\n",
       "      <td>4.500000</td>\n",
       "      <td>4.857143</td>\n",
       "      <td>4.678571</td>\n",
       "    </tr>\n",
       "    <tr>\n",
       "      <th>2</th>\n",
       "      <td>5.0</td>\n",
       "      <td>B015OYM10I</td>\n",
       "      <td>A19K4H7U79QKE0</td>\n",
       "      <td>5.000000</td>\n",
       "      <td>4.068966</td>\n",
       "      <td>4.534483</td>\n",
       "    </tr>\n",
       "    <tr>\n",
       "      <th>3</th>\n",
       "      <td>5.0</td>\n",
       "      <td>B00Y4S5KPY</td>\n",
       "      <td>A11JVJHDF59HJC</td>\n",
       "      <td>4.000000</td>\n",
       "      <td>4.576923</td>\n",
       "      <td>4.288462</td>\n",
       "    </tr>\n",
       "    <tr>\n",
       "      <th>4</th>\n",
       "      <td>1.0</td>\n",
       "      <td>B00O4FOB3O</td>\n",
       "      <td>A1JXGU255ZN7JJ</td>\n",
       "      <td>3.666667</td>\n",
       "      <td>4.160000</td>\n",
       "      <td>3.913333</td>\n",
       "    </tr>\n",
       "  </tbody>\n",
       "</table>\n",
       "</div>"
      ],
      "text/plain": [
       "   overall        asin      reviewerID  pred_y_ps  pred_y_gm    pred_y\n",
       "0      3.0  B00L59D9HG  A1JO2IPCY1J4PS   3.250000   4.689420  3.969710\n",
       "1      5.0  B00005ATSN   ANVJU2ROVJC8A   4.500000   4.857143  4.678571\n",
       "2      5.0  B015OYM10I  A19K4H7U79QKE0   5.000000   4.068966  4.534483\n",
       "3      5.0  B00Y4S5KPY  A11JVJHDF59HJC   4.000000   4.576923  4.288462\n",
       "4      1.0  B00O4FOB3O  A1JXGU255ZN7JJ   3.666667   4.160000  3.913333"
      ]
     },
     "execution_count": 46,
     "metadata": {},
     "output_type": "execute_result"
    }
   ],
   "source": [
    "res_df = pd.merge(test_data[['overall', 'asin', 'reviewerID']], pred_person, \n",
    "                  on='reviewerID', how='left')\n",
    "res_df = pd.merge(res_df, pred_game, \n",
    "                  on='asin', how='left', suffixes=(\"_ps\", \"_gm\"))\n",
    "res_df['pred_y'] = res_df[['pred_y_ps', 'pred_y_gm']].mean(axis=1)\n",
    "res_df = res_df.fillna(overall_pred)\n",
    "res_df.head()"
   ]
  },
  {
   "cell_type": "code",
   "execution_count": 47,
   "metadata": {},
   "outputs": [
    {
     "name": "stdout",
     "output_type": "stream",
     "text": [
      "MAE: 0.8384465732533352\n",
      "MSE: 1.2917418942714662\n"
     ]
    }
   ],
   "source": [
    "_, _ = print_metrics(res_df['overall'], res_df['pred_y'])"
   ]
  },
  {
   "cell_type": "code",
   "execution_count": 48,
   "metadata": {
    "ExecuteTime": {
     "end_time": "2021-04-26T03:02:06.284153Z",
     "start_time": "2021-04-26T03:02:06.159202Z"
    },
    "code_folding": []
   },
   "outputs": [],
   "source": [
    "with open(os.path.join(PRE_DIR, 'train_data.pkl'), 'wb') as f:\n",
    "    pickle.dump(train_data, f)"
   ]
  },
  {
   "cell_type": "code",
   "execution_count": 49,
   "metadata": {
    "ExecuteTime": {
     "end_time": "2021-04-26T03:02:08.098414Z",
     "start_time": "2021-04-26T03:02:06.286396Z"
    }
   },
   "outputs": [],
   "source": [
    "with open(os.path.join(PRE_DIR, 'test_data.pkl'), 'wb') as f:\n",
    "    pickle.dump(test_data, f)"
   ]
  }
 ],
 "metadata": {
  "gist": {
   "data": {
    "description": "Desktop/recommender/main_pj.ipynb",
    "public": false
   },
   "id": ""
  },
  "hide_input": false,
  "kernelspec": {
   "display_name": "Python 3",
   "language": "python",
   "name": "python3"
  },
  "language_info": {
   "codemirror_mode": {
    "name": "ipython",
    "version": 3
   },
   "file_extension": ".py",
   "mimetype": "text/x-python",
   "name": "python",
   "nbconvert_exporter": "python",
   "pygments_lexer": "ipython3",
   "version": "3.8.5"
  },
  "latex_envs": {
   "LaTeX_envs_menu_present": true,
   "autoclose": false,
   "autocomplete": true,
   "bibliofile": "biblio.bib",
   "cite_by": "apalike",
   "current_citInitial": 1,
   "eqLabelWithNumbers": true,
   "eqNumInitial": 1,
   "hotkeys": {
    "equation": "Ctrl-E",
    "itemize": "Ctrl-I"
   },
   "labels_anchors": false,
   "latex_user_defs": false,
   "report_style_numbering": false,
   "user_envs_cfg": false
  },
  "nbTranslate": {
   "displayLangs": [
    "*"
   ],
   "hotkey": "alt-t",
   "langInMainMenu": true,
   "sourceLang": "en",
   "targetLang": "fr",
   "useGoogleTranslate": true
  },
  "toc": {
   "base_numbering": 1,
   "nav_menu": {},
   "number_sections": true,
   "sideBar": true,
   "skip_h1_title": false,
   "title_cell": "Table of Contents",
   "title_sidebar": "Contents",
   "toc_cell": true,
   "toc_position": {
    "height": "calc(100% - 180px)",
    "left": "10px",
    "top": "150px",
    "width": "288px"
   },
   "toc_section_display": true,
   "toc_window_display": true
  },
  "varInspector": {
   "cols": {
    "lenName": 16,
    "lenType": 16,
    "lenVar": 40
   },
   "kernels_config": {
    "python": {
     "delete_cmd_postfix": "",
     "delete_cmd_prefix": "del ",
     "library": "var_list.py",
     "varRefreshCmd": "print(var_dic_list())"
    },
    "r": {
     "delete_cmd_postfix": ") ",
     "delete_cmd_prefix": "rm(",
     "library": "var_list.r",
     "varRefreshCmd": "cat(var_dic_list()) "
    }
   },
   "types_to_exclude": [
    "module",
    "function",
    "builtin_function_or_method",
    "instance",
    "_Feature"
   ],
   "window_display": false
  }
 },
 "nbformat": 4,
 "nbformat_minor": 4
}
