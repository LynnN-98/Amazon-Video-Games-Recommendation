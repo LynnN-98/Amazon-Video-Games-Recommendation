{
  "nbformat": 4,
  "nbformat_minor": 0,
  "metadata": {
    "gist": {
      "data": {
        "description": "Desktop/recommender/main_pj.ipynb",
        "public": false
      },
      "id": ""
    },
    "hide_input": false,
    "kernelspec": {
      "display_name": "Python 3",
      "language": "python",
      "name": "python3"
    },
    "language_info": {
      "codemirror_mode": {
        "name": "ipython",
        "version": 3
      },
      "file_extension": ".py",
      "mimetype": "text/x-python",
      "name": "python",
      "nbconvert_exporter": "python",
      "pygments_lexer": "ipython3",
      "version": "3.8.3"
    },
    "latex_envs": {
      "LaTeX_envs_menu_present": true,
      "autoclose": false,
      "autocomplete": true,
      "bibliofile": "biblio.bib",
      "cite_by": "apalike",
      "current_citInitial": 1,
      "eqLabelWithNumbers": true,
      "eqNumInitial": 1,
      "hotkeys": {
        "equation": "Ctrl-E",
        "itemize": "Ctrl-I"
      },
      "labels_anchors": false,
      "latex_user_defs": false,
      "report_style_numbering": false,
      "user_envs_cfg": false
    },
    "nbTranslate": {
      "displayLangs": [
        "*"
      ],
      "hotkey": "alt-t",
      "langInMainMenu": true,
      "sourceLang": "en",
      "targetLang": "fr",
      "useGoogleTranslate": true
    },
    "toc": {
      "base_numbering": 1,
      "nav_menu": {},
      "number_sections": true,
      "sideBar": true,
      "skip_h1_title": false,
      "title_cell": "Table of Contents",
      "title_sidebar": "Contents",
      "toc_cell": true,
      "toc_position": {},
      "toc_section_display": true,
      "toc_window_display": true
    },
    "varInspector": {
      "cols": {
        "lenName": 16,
        "lenType": 16,
        "lenVar": 40
      },
      "kernels_config": {
        "python": {
          "delete_cmd_postfix": "",
          "delete_cmd_prefix": "del ",
          "library": "var_list.py",
          "varRefreshCmd": "print(var_dic_list())"
        },
        "r": {
          "delete_cmd_postfix": ") ",
          "delete_cmd_prefix": "rm(",
          "library": "var_list.r",
          "varRefreshCmd": "cat(var_dic_list()) "
        }
      },
      "types_to_exclude": [
        "module",
        "function",
        "builtin_function_or_method",
        "instance",
        "_Feature"
      ],
      "window_display": false
    },
    "colab": {
      "name": "data_preprocessing.ipynb",
      "provenance": [],
      "toc_visible": true
    }
  },
  "cells": [
    {
      "cell_type": "code",
      "metadata": {
        "ExecuteTime": {
          "end_time": "2021-04-26T03:01:43.749089Z",
          "start_time": "2021-04-26T03:01:43.145074Z"
        },
        "colab": {
          "base_uri": "https://localhost:8080/",
          "height": 367
        },
        "id": "06NDVyudVmU_",
        "outputId": "bdc860e3-046c-4a20-c564-f0cd4d9d40b4"
      },
      "source": [
        "import os\n",
        "import gzip\n",
        "import json\n",
        "import pandas as pd\n",
        "import numpy as np\n",
        "import pickle\n",
        "\n",
        "from config import RAW_DIR, PRE_DIR, RES_DIR\n",
        "from utils.data_porter import read_from_csv, save_to_csv\n",
        "\n",
        "from IPython.core.interactiveshell import InteractiveShell\n",
        "InteractiveShell.ast_node_interactivity = \"all\" "
      ],
      "execution_count": 18,
      "outputs": [
        {
          "output_type": "error",
          "ename": "ImportError",
          "evalue": "ignored",
          "traceback": [
            "\u001b[0;31m---------------------------------------------------------------------------\u001b[0m",
            "\u001b[0;31mImportError\u001b[0m                               Traceback (most recent call last)",
            "\u001b[0;32m<ipython-input-18-928aee9e8e55>\u001b[0m in \u001b[0;36m<module>\u001b[0;34m()\u001b[0m\n\u001b[1;32m      6\u001b[0m \u001b[0;32mimport\u001b[0m \u001b[0mpickle\u001b[0m\u001b[0;34m\u001b[0m\u001b[0;34m\u001b[0m\u001b[0m\n\u001b[1;32m      7\u001b[0m \u001b[0;34m\u001b[0m\u001b[0m\n\u001b[0;32m----> 8\u001b[0;31m \u001b[0;32mfrom\u001b[0m \u001b[0mconfig\u001b[0m \u001b[0;32mimport\u001b[0m \u001b[0mRAW_DIR\u001b[0m\u001b[0;34m,\u001b[0m \u001b[0mPRE_DIR\u001b[0m\u001b[0;34m,\u001b[0m \u001b[0mRES_DIR\u001b[0m\u001b[0;34m\u001b[0m\u001b[0;34m\u001b[0m\u001b[0m\n\u001b[0m\u001b[1;32m      9\u001b[0m \u001b[0;32mfrom\u001b[0m \u001b[0mutils\u001b[0m\u001b[0;34m.\u001b[0m\u001b[0mdata_porter\u001b[0m \u001b[0;32mimport\u001b[0m \u001b[0mread_from_csv\u001b[0m\u001b[0;34m,\u001b[0m \u001b[0msave_to_csv\u001b[0m\u001b[0;34m\u001b[0m\u001b[0;34m\u001b[0m\u001b[0m\n\u001b[1;32m     10\u001b[0m \u001b[0;34m\u001b[0m\u001b[0m\n",
            "\u001b[0;31mImportError\u001b[0m: cannot import name 'RAW_DIR' from 'config' (/usr/local/lib/python3.7/dist-packages/config/__init__.py)",
            "",
            "\u001b[0;31m---------------------------------------------------------------------------\u001b[0;32m\nNOTE: If your import is failing due to a missing package, you can\nmanually install dependencies using either !pip or !apt.\n\nTo view examples of installing some common dependencies, click the\n\"Open Examples\" button below.\n\u001b[0;31m---------------------------------------------------------------------------\u001b[0m\n"
          ]
        }
      ]
    },
    {
      "cell_type": "markdown",
      "metadata": {
        "id": "VuFE8m5jVmVA"
      },
      "source": [
        "# Get Raw data"
      ]
    },
    {
      "cell_type": "code",
      "metadata": {
        "ExecuteTime": {
          "end_time": "2021-04-26T03:01:43.753342Z",
          "start_time": "2021-04-26T03:01:43.750742Z"
        },
        "id": "0XQ0poAsVmVA"
      },
      "source": [
        "df_rating_dir = os.path.join(RAW_DIR, 'Video_Games.csv')\n",
        "gz_review_dir = os.path.join(RAW_DIR, 'Video_Games_5.json.gz')"
      ],
      "execution_count": null,
      "outputs": []
    },
    {
      "cell_type": "code",
      "metadata": {
        "ExecuteTime": {
          "end_time": "2021-04-26T03:01:46.214106Z",
          "start_time": "2021-04-26T03:01:43.755732Z"
        },
        "id": "zUZ0sFMaVmVA"
      },
      "source": [
        "rating_data = read_from_csv(df_rating_dir, header=None, names=['ProductID', 'ReviewerID', 'Rating', 'TimeStamp'], )\n",
        "rating_data['TimeStamp'] = pd.to_datetime(rating_data.TimeStamp, unit='s')\n",
        "rating_data = rating_data.sort_values(by='TimeStamp')"
      ],
      "execution_count": null,
      "outputs": []
    },
    {
      "cell_type": "code",
      "metadata": {
        "ExecuteTime": {
          "end_time": "2021-04-26T03:01:59.827414Z",
          "start_time": "2021-04-26T03:01:46.215951Z"
        },
        "id": "ACfWoBpqVmVB"
      },
      "source": [
        "def parse(path):\n",
        "    g = gzip.open(path, 'rb')\n",
        "    for l in g:\n",
        "        yield json.loads(l)\n",
        "\n",
        "def getDF(path):\n",
        "    i = 0\n",
        "    df = {}\n",
        "    for d in parse(path):\n",
        "        df[i] = d\n",
        "        i += 1\n",
        "    return pd.DataFrame.from_dict(df, orient='index')\n",
        "\n",
        "review_data = getDF(gz_review_dir)\n",
        "review_data['reviewTime'] = pd.to_datetime(review_data.unixReviewTime, unit='s')\n",
        "review_data = review_data.sort_values(by='reviewTime')"
      ],
      "execution_count": null,
      "outputs": []
    },
    {
      "cell_type": "markdown",
      "metadata": {
        "id": "iJoLC3dLVmVB"
      },
      "source": [
        "# 2 Data Preprocessing"
      ]
    },
    {
      "cell_type": "markdown",
      "metadata": {
        "id": "zKQxrsNaVmVB"
      },
      "source": [
        "### Only keep data in '2000-01-01'~'2017-12-09'"
      ]
    },
    {
      "cell_type": "code",
      "metadata": {
        "ExecuteTime": {
          "end_time": "2021-04-26T03:02:00.505981Z",
          "start_time": "2021-04-26T03:01:59.829431Z"
        },
        "scrolled": false,
        "id": "rmiJrpXvVmVC"
      },
      "source": [
        "rating_data = rating_data[(rating_data.TimeStamp>='2000-01-01')&(rating_data.TimeStamp<='2017-12-09')]\n",
        "review_data = review_data[(review_data.reviewTime>='2000-01-01')&(review_data.reviewTime<='2017-12-09')]\n",
        "rating_data = rating_data.reset_index(drop=True)\n",
        "review_data = review_data.reset_index(drop=True)"
      ],
      "execution_count": null,
      "outputs": []
    },
    {
      "cell_type": "code",
      "metadata": {
        "ExecuteTime": {
          "end_time": "2021-04-26T03:02:00.538228Z",
          "start_time": "2021-04-26T03:02:00.509182Z"
        },
        "id": "l8Uc-TK4VmVC"
      },
      "source": [
        "rating_data.head(3)\n",
        "review_data.head(3)"
      ],
      "execution_count": null,
      "outputs": []
    },
    {
      "cell_type": "markdown",
      "metadata": {
        "id": "VuTFj1LWVmVD"
      },
      "source": [
        "review_data\n",
        "- reviewerID - ID of the reviewer, e.g. A2SUAM1J3GNN3B\n",
        "- asin - ID of the product, e.g. 0000013714\n",
        "- reviewerName - name of the reviewer\n",
        "- vote - helpful votes of the review\n",
        "- style - a disctionary of the product metadata, e.g., \"Format\" is \"Hardcover\"\n",
        "- reviewText - text of the review\n",
        "- overall - rating of the product\n",
        "- summary - summary of the review\n",
        "- unixReviewTime - time of the review (unix time)\n",
        "- reviewTime - time of the review (raw)\n",
        "- image - images that users post after they have received the product\n",
        " \n",
        "rating_data\n",
        "- These datasets include no metadata or reviews, but only (item,user,rating,timestamp) tuples."
      ]
    },
    {
      "cell_type": "markdown",
      "metadata": {
        "id": "nRgOn4j9VmVD"
      },
      "source": [
        "### Join in Review data & Rating data on 'ReviewID'"
      ]
    },
    {
      "cell_type": "code",
      "metadata": {
        "ExecuteTime": {
          "end_time": "2021-04-26T03:02:00.542824Z",
          "start_time": "2021-04-26T03:02:00.540986Z"
        },
        "id": "EF6T04tNVmVD"
      },
      "source": [
        "# review_data = review_data.rename(columns={'asin':'ProductID'})\n",
        "# data = rating_data.merge(review_data, how='outer', on='ProductID')\n",
        "# data = data.reset_index(drop=True)\n",
        "# data.head(5)"
      ],
      "execution_count": null,
      "outputs": []
    },
    {
      "cell_type": "markdown",
      "metadata": {
        "id": "hLOv4GdIVmVE"
      },
      "source": [
        "### Filter reviewer & product "
      ]
    },
    {
      "cell_type": "code",
      "metadata": {
        "ExecuteTime": {
          "end_time": "2021-04-26T03:02:00.548188Z",
          "start_time": "2021-04-26T03:02:00.544549Z"
        },
        "id": "4fXiqvAdVmVE"
      },
      "source": [
        "def filters(data, filtered_var, base_var, threshold):\n",
        "    '''\n",
        "    only keep the values of filter_var that meets:\n",
        "    filter_var[base_var].sum() >= threshold\n",
        "    '''\n",
        "    count_df = data[[filtered_var, base_var]].groupby(filtered_var).count()\n",
        "    valid_id = count_df[count_df[base_var]>=threshold].index.tolist()\n",
        "    data = data[data[filtered_var].isin(valid_id)]\n",
        "    return data"
      ],
      "execution_count": null,
      "outputs": []
    },
    {
      "cell_type": "code",
      "metadata": {
        "ExecuteTime": {
          "end_time": "2021-04-26T03:02:06.157202Z",
          "start_time": "2021-04-26T03:02:00.550223Z"
        },
        "id": "RwPCUD0aVmVE"
      },
      "source": [
        "before_filtering = len(rating_data)\n",
        "\n",
        "rating_data = filters(rating_data, 'ReviewerID', 'TimeStamp', 5) \n",
        "# only keep the reviewer that has more than 5 ratings\n",
        "rating_data = filters(rating_data, 'ProductID', 'TimeStamp', 20) \n",
        "# only keep the product that has more than 20 ratings\n",
        "\n",
        "\n",
        "rating_data = rating_data.reset_index(drop=True)\n",
        "after_filtering = len(rating_data)\n",
        "rating_data.head(5)\n",
        "\n",
        "after_filtering/before_filtering"
      ],
      "execution_count": null,
      "outputs": []
    },
    {
      "cell_type": "markdown",
      "metadata": {
        "id": "InuBhTKcVmVF"
      },
      "source": [
        "### Save the data to RES_DIR"
      ]
    },
    {
      "cell_type": "code",
      "metadata": {
        "ExecuteTime": {
          "end_time": "2021-04-26T03:02:06.284153Z",
          "start_time": "2021-04-26T03:02:06.159202Z"
        },
        "id": "GRZB-082VmVF"
      },
      "source": [
        "with open(os.path.join(PRE_DIR, 'rating_data.pkl'), 'wb') as f:\n",
        "    pickle.dump(rating_data, f)"
      ],
      "execution_count": null,
      "outputs": []
    },
    {
      "cell_type": "code",
      "metadata": {
        "ExecuteTime": {
          "end_time": "2021-04-26T03:02:08.098414Z",
          "start_time": "2021-04-26T03:02:06.286396Z"
        },
        "id": "Ni4Wgd8DVmVG"
      },
      "source": [
        "with open(os.path.join(PRE_DIR, 'review_data.pkl'), 'wb') as f:\n",
        "    pickle.dump(review_data, f)"
      ],
      "execution_count": null,
      "outputs": []
    }
  ]
}