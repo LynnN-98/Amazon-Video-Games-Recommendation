{
  "nbformat": 4,
  "nbformat_minor": 0,
  "metadata": {
    "hide_input": false,
    "kernelspec": {
      "display_name": "Python [conda env:py_tf]",
      "language": "python",
      "name": "conda-env-py_tf-py"
    },
    "language_info": {
      "codemirror_mode": {
        "name": "ipython",
        "version": 3
      },
      "file_extension": ".py",
      "mimetype": "text/x-python",
      "name": "python",
      "nbconvert_exporter": "python",
      "pygments_lexer": "ipython3",
      "version": "3.7.10"
    },
    "latex_envs": {
      "LaTeX_envs_menu_present": true,
      "autoclose": false,
      "autocomplete": true,
      "bibliofile": "biblio.bib",
      "cite_by": "apalike",
      "current_citInitial": 1,
      "eqLabelWithNumbers": true,
      "eqNumInitial": 1,
      "hotkeys": {
        "equation": "Ctrl-E",
        "itemize": "Ctrl-I"
      },
      "labels_anchors": false,
      "latex_user_defs": false,
      "report_style_numbering": false,
      "user_envs_cfg": false
    },
    "nbTranslate": {
      "displayLangs": [
        "*"
      ],
      "hotkey": "alt-t",
      "langInMainMenu": true,
      "sourceLang": "en",
      "targetLang": "fr",
      "useGoogleTranslate": true
    },
    "toc": {
      "base_numbering": 1,
      "nav_menu": {},
      "number_sections": true,
      "sideBar": true,
      "skip_h1_title": false,
      "title_cell": "Table of Contents",
      "title_sidebar": "Contents",
      "toc_cell": true,
      "toc_position": {},
      "toc_section_display": true,
      "toc_window_display": true
    },
    "varInspector": {
      "cols": {
        "lenName": 16,
        "lenType": 16,
        "lenVar": 40
      },
      "kernels_config": {
        "python": {
          "delete_cmd_postfix": "",
          "delete_cmd_prefix": "del ",
          "library": "var_list.py",
          "varRefreshCmd": "print(var_dic_list())"
        },
        "r": {
          "delete_cmd_postfix": ") ",
          "delete_cmd_prefix": "rm(",
          "library": "var_list.r",
          "varRefreshCmd": "cat(var_dic_list()) "
        }
      },
      "types_to_exclude": [
        "module",
        "function",
        "builtin_function_or_method",
        "instance",
        "_Feature"
      ],
      "window_display": false
    },
    "colab": {
      "name": "nn_model.ipynb",
      "provenance": []
    }
  },
  "cells": [
    {
      "cell_type": "code",
      "metadata": {
        "ExecuteTime": {
          "end_time": "2021-04-25T16:12:19.790806Z",
          "start_time": "2021-04-25T16:12:18.253149Z"
        },
        "id": "DzhHsnUvi2iV"
      },
      "source": [
        "import os\n",
        "import pickle\n",
        "import gzip\n",
        "import json\n",
        "import pandas as pd\n",
        "import numpy as np\n",
        "\n",
        "from config import RAW_DIR, PRE_DIR, RES_DIR\n",
        "from utils.data_porter import read_from_csv, save_to_csv"
      ],
      "execution_count": null,
      "outputs": []
    },
    {
      "cell_type": "code",
      "metadata": {
        "id": "AvKucq17i2iX",
        "outputId": "2b95956e-59c0-4c53-fa1f-e437a64c5546"
      },
      "source": [
        "with open(os.path.join(PRE_DIR, 'review_data.pkl'), 'rb') as f:\n",
        "    review_data = pickle.load(f)\n",
        "print(review_data.shape)\n",
        "review_data.head()"
      ],
      "execution_count": null,
      "outputs": [
        {
          "output_type": "stream",
          "text": [
            "(484214, 12)\n"
          ],
          "name": "stdout"
        },
        {
          "output_type": "execute_result",
          "data": {
            "text/html": [
              "<div>\n",
              "<style scoped>\n",
              "    .dataframe tbody tr th:only-of-type {\n",
              "        vertical-align: middle;\n",
              "    }\n",
              "\n",
              "    .dataframe tbody tr th {\n",
              "        vertical-align: top;\n",
              "    }\n",
              "\n",
              "    .dataframe thead th {\n",
              "        text-align: right;\n",
              "    }\n",
              "</style>\n",
              "<table border=\"1\" class=\"dataframe\">\n",
              "  <thead>\n",
              "    <tr style=\"text-align: right;\">\n",
              "      <th></th>\n",
              "      <th>overall</th>\n",
              "      <th>verified</th>\n",
              "      <th>reviewTime</th>\n",
              "      <th>reviewerID</th>\n",
              "      <th>asin</th>\n",
              "      <th>reviewerName</th>\n",
              "      <th>reviewText</th>\n",
              "      <th>summary</th>\n",
              "      <th>unixReviewTime</th>\n",
              "      <th>vote</th>\n",
              "      <th>style</th>\n",
              "      <th>image</th>\n",
              "    </tr>\n",
              "  </thead>\n",
              "  <tbody>\n",
              "    <tr>\n",
              "      <th>0</th>\n",
              "      <td>4.0</td>\n",
              "      <td>False</td>\n",
              "      <td>2000-01-01</td>\n",
              "      <td>A261TLAGXR52NH</td>\n",
              "      <td>B00002CF8V</td>\n",
              "      <td>THOR (Global Gamer Reviewer/Previewer)</td>\n",
              "      <td>Take Resident Evil,jack its graphics up alot,s...</td>\n",
              "      <td>D*MN NEAR PERFECT!</td>\n",
              "      <td>946684800</td>\n",
              "      <td>6</td>\n",
              "      <td>NaN</td>\n",
              "      <td>NaN</td>\n",
              "    </tr>\n",
              "    <tr>\n",
              "      <th>1</th>\n",
              "      <td>4.0</td>\n",
              "      <td>False</td>\n",
              "      <td>2000-01-01</td>\n",
              "      <td>A261TLAGXR52NH</td>\n",
              "      <td>B00002CF96</td>\n",
              "      <td>THOR (Global Gamer Reviewer/Previewer)</td>\n",
              "      <td>Half-Life:Opposing Force takes place as your c...</td>\n",
              "      <td>Better than the first?</td>\n",
              "      <td>946684800</td>\n",
              "      <td>NaN</td>\n",
              "      <td>NaN</td>\n",
              "      <td>NaN</td>\n",
              "    </tr>\n",
              "    <tr>\n",
              "      <th>2</th>\n",
              "      <td>5.0</td>\n",
              "      <td>False</td>\n",
              "      <td>2000-01-01</td>\n",
              "      <td>A261TLAGXR52NH</td>\n",
              "      <td>B00002CF8U</td>\n",
              "      <td>THOR (Global Gamer Reviewer/Previewer)</td>\n",
              "      <td>GTA2 is set in a futuristic city where you try...</td>\n",
              "      <td>Just read it!</td>\n",
              "      <td>946684800</td>\n",
              "      <td>2</td>\n",
              "      <td>{'Format:': ' Video Game'}</td>\n",
              "      <td>NaN</td>\n",
              "    </tr>\n",
              "    <tr>\n",
              "      <th>3</th>\n",
              "      <td>5.0</td>\n",
              "      <td>False</td>\n",
              "      <td>2000-01-02</td>\n",
              "      <td>A2KG4CXNXJVPTK</td>\n",
              "      <td>B00001ZT9E</td>\n",
              "      <td>Cavan</td>\n",
              "      <td>TR:LR is excellent!  The story, the graphics, ...</td>\n",
              "      <td>Excellent game!</td>\n",
              "      <td>946771200</td>\n",
              "      <td>8</td>\n",
              "      <td>{'Format:': ' Video Game'}</td>\n",
              "      <td>NaN</td>\n",
              "    </tr>\n",
              "    <tr>\n",
              "      <th>4</th>\n",
              "      <td>4.0</td>\n",
              "      <td>False</td>\n",
              "      <td>2000-01-02</td>\n",
              "      <td>A2KG4CXNXJVPTK</td>\n",
              "      <td>B00000K1VE</td>\n",
              "      <td>Cavan</td>\n",
              "      <td>Dino Crisis is a great game -- lots of excitem...</td>\n",
              "      <td>Great game, though it can be short</td>\n",
              "      <td>946771200</td>\n",
              "      <td>NaN</td>\n",
              "      <td>NaN</td>\n",
              "      <td>NaN</td>\n",
              "    </tr>\n",
              "  </tbody>\n",
              "</table>\n",
              "</div>"
            ],
            "text/plain": [
              "   overall  verified reviewTime      reviewerID        asin  \\\n",
              "0      4.0     False 2000-01-01  A261TLAGXR52NH  B00002CF8V   \n",
              "1      4.0     False 2000-01-01  A261TLAGXR52NH  B00002CF96   \n",
              "2      5.0     False 2000-01-01  A261TLAGXR52NH  B00002CF8U   \n",
              "3      5.0     False 2000-01-02  A2KG4CXNXJVPTK  B00001ZT9E   \n",
              "4      4.0     False 2000-01-02  A2KG4CXNXJVPTK  B00000K1VE   \n",
              "\n",
              "                             reviewerName  \\\n",
              "0  THOR (Global Gamer Reviewer/Previewer)   \n",
              "1  THOR (Global Gamer Reviewer/Previewer)   \n",
              "2  THOR (Global Gamer Reviewer/Previewer)   \n",
              "3                                   Cavan   \n",
              "4                                   Cavan   \n",
              "\n",
              "                                          reviewText  \\\n",
              "0  Take Resident Evil,jack its graphics up alot,s...   \n",
              "1  Half-Life:Opposing Force takes place as your c...   \n",
              "2  GTA2 is set in a futuristic city where you try...   \n",
              "3  TR:LR is excellent!  The story, the graphics, ...   \n",
              "4  Dino Crisis is a great game -- lots of excitem...   \n",
              "\n",
              "                              summary  unixReviewTime vote  \\\n",
              "0                  D*MN NEAR PERFECT!       946684800    6   \n",
              "1              Better than the first?       946684800  NaN   \n",
              "2                       Just read it!       946684800    2   \n",
              "3                     Excellent game!       946771200    8   \n",
              "4  Great game, though it can be short       946771200  NaN   \n",
              "\n",
              "                        style image  \n",
              "0                         NaN   NaN  \n",
              "1                         NaN   NaN  \n",
              "2  {'Format:': ' Video Game'}   NaN  \n",
              "3  {'Format:': ' Video Game'}   NaN  \n",
              "4                         NaN   NaN  "
            ]
          },
          "metadata": {
            "tags": []
          },
          "execution_count": 2
        }
      ]
    },
    {
      "cell_type": "code",
      "metadata": {
        "id": "M1GSJSqWi2iY",
        "outputId": "3fee6c94-bd15-4d1a-fc3d-57c72ddd32f9"
      },
      "source": [
        "review_data['reviewTime'].max()"
      ],
      "execution_count": null,
      "outputs": [
        {
          "output_type": "execute_result",
          "data": {
            "text/plain": [
              "Timestamp('2017-12-09 00:00:00')"
            ]
          },
          "metadata": {
            "tags": []
          },
          "execution_count": 3
        }
      ]
    },
    {
      "cell_type": "code",
      "metadata": {
        "id": "kmys6lbWi2iZ",
        "outputId": "5833301c-3fe8-4b38-e644-e0a7cb9358ea"
      },
      "source": [
        "review_data['reviewTime'].min()"
      ],
      "execution_count": null,
      "outputs": [
        {
          "output_type": "execute_result",
          "data": {
            "text/plain": [
              "Timestamp('2000-01-01 00:00:00')"
            ]
          },
          "metadata": {
            "tags": []
          },
          "execution_count": 4
        }
      ]
    },
    {
      "cell_type": "markdown",
      "metadata": {
        "id": "8uu478D1i2iZ"
      },
      "source": [
        "# Key word"
      ]
    },
    {
      "cell_type": "code",
      "metadata": {
        "id": "QLQD_wMLi2ia"
      },
      "source": [
        "import "
      ],
      "execution_count": null,
      "outputs": []
    },
    {
      "cell_type": "markdown",
      "metadata": {
        "code_folding": [],
        "id": "PuMaQ_w5i2ia"
      },
      "source": [
        "# NLP data processing"
      ]
    },
    {
      "cell_type": "code",
      "metadata": {
        "id": "t0Antlvni2ia"
      },
      "source": [
        "import re\n",
        "import nltk\n",
        "# import nltk\n",
        "# nltk.download('stopwords')\n",
        "# add manually\n",
        "from nltk.corpus import stopwords\n",
        "from nltk.stem.porter import PorterStemmer\n",
        "english_stemmer=nltk.stem.SnowballStemmer('english')"
      ],
      "execution_count": null,
      "outputs": []
    },
    {
      "cell_type": "code",
      "metadata": {
        "id": "_z-K8qgxi2ib"
      },
      "source": [
        "def data_clean(rev, remove_stopwords=True): \n",
        "    \n",
        "    try:\n",
        "        new_text = re.sub(\"[^a-zA-Z]\",\" \", rev)\n",
        "    except:\n",
        "        print(rev)\n",
        "        new_text = []\n",
        "   \n",
        "    words = new_text.lower().split()\n",
        "    \n",
        "    if remove_stopwords:\n",
        "        sts = set(stopwords.words(\"english\"))\n",
        "        words = [w for w in words if not w in sts]\n",
        "    ary=[]\n",
        "    eng_stemmer = english_stemmer \n",
        "    for word in words:\n",
        "        ary.append(eng_stemmer.stem(word))\n",
        "\n",
        "    new_ary = ' '.join(ary)\n",
        "    return(new_ary)"
      ],
      "execution_count": null,
      "outputs": []
    },
    {
      "cell_type": "code",
      "metadata": {
        "id": "QmGZJjXmi2ib",
        "outputId": "9718a222-f0dd-40fc-961d-5263d97dac95"
      },
      "source": [
        "review_data.shape"
      ],
      "execution_count": null,
      "outputs": [
        {
          "output_type": "execute_result",
          "data": {
            "text/plain": [
              "(484214, 12)"
            ]
          },
          "metadata": {
            "tags": []
          },
          "execution_count": 7
        }
      ]
    },
    {
      "cell_type": "code",
      "metadata": {
        "id": "_XRwXAKOi2ic",
        "outputId": "f5da1edb-030e-44d0-bc1a-5fca7fdff6c0"
      },
      "source": [
        "part_data = review_data.sample(frac=0.1, random_state=1).fillna('')\n",
        "part_data = part_data.drop(columns=['vote', 'style', 'image', 'reviewTime', 'reviewerName', 'verified'])\n",
        "part_data = part_data.sort_values(by='unixReviewTime')\n",
        "print(part_data.shape)\n",
        "part_data.head()"
      ],
      "execution_count": null,
      "outputs": [
        {
          "output_type": "stream",
          "text": [
            "(48421, 6)\n"
          ],
          "name": "stdout"
        },
        {
          "output_type": "execute_result",
          "data": {
            "text/html": [
              "<div>\n",
              "<style scoped>\n",
              "    .dataframe tbody tr th:only-of-type {\n",
              "        vertical-align: middle;\n",
              "    }\n",
              "\n",
              "    .dataframe tbody tr th {\n",
              "        vertical-align: top;\n",
              "    }\n",
              "\n",
              "    .dataframe thead th {\n",
              "        text-align: right;\n",
              "    }\n",
              "</style>\n",
              "<table border=\"1\" class=\"dataframe\">\n",
              "  <thead>\n",
              "    <tr style=\"text-align: right;\">\n",
              "      <th></th>\n",
              "      <th>overall</th>\n",
              "      <th>reviewerID</th>\n",
              "      <th>asin</th>\n",
              "      <th>reviewText</th>\n",
              "      <th>summary</th>\n",
              "      <th>unixReviewTime</th>\n",
              "    </tr>\n",
              "  </thead>\n",
              "  <tbody>\n",
              "    <tr>\n",
              "      <th>20</th>\n",
              "      <td>4.0</td>\n",
              "      <td>A29R3O02O0PON4</td>\n",
              "      <td>B00002EPZ2</td>\n",
              "      <td>Well, if you haven't figured it out yet from t...</td>\n",
              "      <td>Are you a dedd'er too?</td>\n",
              "      <td>947635200</td>\n",
              "    </tr>\n",
              "    <tr>\n",
              "      <th>25</th>\n",
              "      <td>3.0</td>\n",
              "      <td>A2QOK3KRHQKGSG</td>\n",
              "      <td>B00002NDRY</td>\n",
              "      <td>This is an excellent \"product\" from a guy who ...</td>\n",
              "      <td>This is an excellent \"product\" from a guy who...</td>\n",
              "      <td>947808000</td>\n",
              "    </tr>\n",
              "    <tr>\n",
              "      <th>31</th>\n",
              "      <td>5.0</td>\n",
              "      <td>A1LWYVLGA3N2R4</td>\n",
              "      <td>B00001XDKO</td>\n",
              "      <td>Absolutely stunning graphics, incredible gamep...</td>\n",
              "      <td>Best game of 1999</td>\n",
              "      <td>948499200</td>\n",
              "    </tr>\n",
              "    <tr>\n",
              "      <th>28</th>\n",
              "      <td>5.0</td>\n",
              "      <td>A2QML92353G4GG</td>\n",
              "      <td>B00002NDSI</td>\n",
              "      <td>After countless hours of frustration and disap...</td>\n",
              "      <td>A breath of fresh air!</td>\n",
              "      <td>948499200</td>\n",
              "    </tr>\n",
              "    <tr>\n",
              "      <th>33</th>\n",
              "      <td>5.0</td>\n",
              "      <td>A1UF6GIMK5U1Z5</td>\n",
              "      <td>B00001KUII</td>\n",
              "      <td>This is without a doubt, one of the most fanta...</td>\n",
              "      <td>Great, but use caution!</td>\n",
              "      <td>948585600</td>\n",
              "    </tr>\n",
              "  </tbody>\n",
              "</table>\n",
              "</div>"
            ],
            "text/plain": [
              "    overall      reviewerID        asin  \\\n",
              "20      4.0  A29R3O02O0PON4  B00002EPZ2   \n",
              "25      3.0  A2QOK3KRHQKGSG  B00002NDRY   \n",
              "31      5.0  A1LWYVLGA3N2R4  B00001XDKO   \n",
              "28      5.0  A2QML92353G4GG  B00002NDSI   \n",
              "33      5.0  A1UF6GIMK5U1Z5  B00001KUII   \n",
              "\n",
              "                                           reviewText  \\\n",
              "20  Well, if you haven't figured it out yet from t...   \n",
              "25  This is an excellent \"product\" from a guy who ...   \n",
              "31  Absolutely stunning graphics, incredible gamep...   \n",
              "28  After countless hours of frustration and disap...   \n",
              "33  This is without a doubt, one of the most fanta...   \n",
              "\n",
              "                                             summary  unixReviewTime  \n",
              "20                            Are you a dedd'er too?       947635200  \n",
              "25  This is an excellent \"product\" from a guy who...       947808000  \n",
              "31                                 Best game of 1999       948499200  \n",
              "28                            A breath of fresh air!       948499200  \n",
              "33                           Great, but use caution!       948585600  "
            ]
          },
          "metadata": {
            "tags": []
          },
          "execution_count": 8
        }
      ]
    },
    {
      "cell_type": "code",
      "metadata": {
        "id": "lNfUctqGi2ic"
      },
      "source": [
        "# part_data['reviewText'] = part_data['reviewText'].apply(lambda x: data_clean(x))\n",
        "# part_data['summary'] = part_data['summary'].apply(lambda x: data_clean(x))\n",
        "\n",
        "# part_data['docs'] = part_data.apply(lambda x: x.reviewText + x.summary, axis=1)\n",
        "\n",
        "\n",
        "part_data['docs'] = part_data.apply(lambda x: data_clean(x.reviewText) + data_clean(x.summary), axis=1)"
      ],
      "execution_count": null,
      "outputs": []
    },
    {
      "cell_type": "code",
      "metadata": {
        "id": "x5n4q3rai2id",
        "outputId": "770e995a-0d2d-405c-f616-41c8f2076f72"
      },
      "source": [
        "part_data.head()"
      ],
      "execution_count": null,
      "outputs": [
        {
          "output_type": "execute_result",
          "data": {
            "text/html": [
              "<div>\n",
              "<style scoped>\n",
              "    .dataframe tbody tr th:only-of-type {\n",
              "        vertical-align: middle;\n",
              "    }\n",
              "\n",
              "    .dataframe tbody tr th {\n",
              "        vertical-align: top;\n",
              "    }\n",
              "\n",
              "    .dataframe thead th {\n",
              "        text-align: right;\n",
              "    }\n",
              "</style>\n",
              "<table border=\"1\" class=\"dataframe\">\n",
              "  <thead>\n",
              "    <tr style=\"text-align: right;\">\n",
              "      <th></th>\n",
              "      <th>overall</th>\n",
              "      <th>reviewerID</th>\n",
              "      <th>asin</th>\n",
              "      <th>reviewText</th>\n",
              "      <th>summary</th>\n",
              "      <th>unixReviewTime</th>\n",
              "      <th>docs</th>\n",
              "    </tr>\n",
              "  </thead>\n",
              "  <tbody>\n",
              "    <tr>\n",
              "      <th>20</th>\n",
              "      <td>4.0</td>\n",
              "      <td>A29R3O02O0PON4</td>\n",
              "      <td>B00002EPZ2</td>\n",
              "      <td>Well, if you haven't figured it out yet from t...</td>\n",
              "      <td>Are you a dedd'er too?</td>\n",
              "      <td>947635200</td>\n",
              "      <td>well figur yet review player assum role immort...</td>\n",
              "    </tr>\n",
              "    <tr>\n",
              "      <th>25</th>\n",
              "      <td>3.0</td>\n",
              "      <td>A2QOK3KRHQKGSG</td>\n",
              "      <td>B00002NDRY</td>\n",
              "      <td>This is an excellent \"product\" from a guy who ...</td>\n",
              "      <td>This is an excellent \"product\" from a guy who...</td>\n",
              "      <td>947808000</td>\n",
              "      <td>excel product guy admit casual gamer actual ad...</td>\n",
              "    </tr>\n",
              "    <tr>\n",
              "      <th>31</th>\n",
              "      <td>5.0</td>\n",
              "      <td>A1LWYVLGA3N2R4</td>\n",
              "      <td>B00001XDKO</td>\n",
              "      <td>Absolutely stunning graphics, incredible gamep...</td>\n",
              "      <td>Best game of 1999</td>\n",
              "      <td>948499200</td>\n",
              "      <td>absolut stun graphic incred gameplay best bot ...</td>\n",
              "    </tr>\n",
              "    <tr>\n",
              "      <th>28</th>\n",
              "      <td>5.0</td>\n",
              "      <td>A2QML92353G4GG</td>\n",
              "      <td>B00002NDSI</td>\n",
              "      <td>After countless hours of frustration and disap...</td>\n",
              "      <td>A breath of fresh air!</td>\n",
              "      <td>948499200</td>\n",
              "      <td>countless hour frustrat disappoint ultima onli...</td>\n",
              "    </tr>\n",
              "    <tr>\n",
              "      <th>33</th>\n",
              "      <td>5.0</td>\n",
              "      <td>A1UF6GIMK5U1Z5</td>\n",
              "      <td>B00001KUII</td>\n",
              "      <td>This is without a doubt, one of the most fanta...</td>\n",
              "      <td>Great, but use caution!</td>\n",
              "      <td>948585600</td>\n",
              "      <td>without doubt one fantast game avili ever pc b...</td>\n",
              "    </tr>\n",
              "  </tbody>\n",
              "</table>\n",
              "</div>"
            ],
            "text/plain": [
              "    overall      reviewerID        asin  \\\n",
              "20      4.0  A29R3O02O0PON4  B00002EPZ2   \n",
              "25      3.0  A2QOK3KRHQKGSG  B00002NDRY   \n",
              "31      5.0  A1LWYVLGA3N2R4  B00001XDKO   \n",
              "28      5.0  A2QML92353G4GG  B00002NDSI   \n",
              "33      5.0  A1UF6GIMK5U1Z5  B00001KUII   \n",
              "\n",
              "                                           reviewText  \\\n",
              "20  Well, if you haven't figured it out yet from t...   \n",
              "25  This is an excellent \"product\" from a guy who ...   \n",
              "31  Absolutely stunning graphics, incredible gamep...   \n",
              "28  After countless hours of frustration and disap...   \n",
              "33  This is without a doubt, one of the most fanta...   \n",
              "\n",
              "                                             summary  unixReviewTime  \\\n",
              "20                            Are you a dedd'er too?       947635200   \n",
              "25  This is an excellent \"product\" from a guy who...       947808000   \n",
              "31                                 Best game of 1999       948499200   \n",
              "28                            A breath of fresh air!       948499200   \n",
              "33                           Great, but use caution!       948585600   \n",
              "\n",
              "                                                 docs  \n",
              "20  well figur yet review player assum role immort...  \n",
              "25  excel product guy admit casual gamer actual ad...  \n",
              "31  absolut stun graphic incred gameplay best bot ...  \n",
              "28  countless hour frustrat disappoint ultima onli...  \n",
              "33  without doubt one fantast game avili ever pc b...  "
            ]
          },
          "metadata": {
            "tags": []
          },
          "execution_count": 10
        }
      ]
    },
    {
      "cell_type": "code",
      "metadata": {
        "id": "6YrSf4Tzi2id",
        "outputId": "a3b3b187-79e8-4666-ca0a-c23423665d33"
      },
      "source": [
        "part_data['overall'].value_counts()"
      ],
      "execution_count": null,
      "outputs": [
        {
          "output_type": "execute_result",
          "data": {
            "text/plain": [
              "5.0    28897\n",
              "4.0     9238\n",
              "3.0     4844\n",
              "1.0     3091\n",
              "2.0     2351\n",
              "Name: overall, dtype: int64"
            ]
          },
          "metadata": {
            "tags": []
          },
          "execution_count": 11
        }
      ]
    },
    {
      "cell_type": "code",
      "metadata": {
        "id": "jHGRF0JHi2id"
      },
      "source": [
        "import sklearn\n",
        "from sklearn.feature_extraction.text import TfidfVectorizer"
      ],
      "execution_count": null,
      "outputs": []
    },
    {
      "cell_type": "code",
      "metadata": {
        "id": "m4XFEVLqi2ie"
      },
      "source": [
        "corpus = part_data['reviewText'].tolist()"
      ],
      "execution_count": null,
      "outputs": []
    },
    {
      "cell_type": "code",
      "metadata": {
        "id": "SDycZ-q5i2ie",
        "outputId": "ae8239b8-af6b-41c7-f07b-f5beac249f74"
      },
      "source": [
        "vectorizer = TfidfVectorizer(min_df=20, max_df=0.5, max_features=2000)\n",
        "X = vectorizer.fit_transform(corpus)\n",
        "print(X.shape)"
      ],
      "execution_count": null,
      "outputs": [
        {
          "output_type": "stream",
          "text": [
            "(48421, 2000)\n"
          ],
          "name": "stdout"
        }
      ]
    },
    {
      "cell_type": "code",
      "metadata": {
        "id": "5SpohCYEi2ie"
      },
      "source": [
        "import tensorflow as tf\n",
        "from tensorflow.keras.models import Sequential\n",
        "from tensorflow.keras.layers import Input, LSTM, Dense, Dropout, Embedding"
      ],
      "execution_count": null,
      "outputs": []
    },
    {
      "cell_type": "code",
      "metadata": {
        "id": "KFYiCH1Ji2ie",
        "outputId": "f4a64011-f706-4db8-9a24-ce035519a6f0"
      },
      "source": [
        "train_x = X[: int(X.shape[0] * 0.8)]\n",
        "val_x = X[int(X.shape[0] * 0.8): int(X.shape[0] * 0.9)]\n",
        "test_x = X[int(X.shape[0] * 0.9) :]\n",
        "print(f\"train_x: {train_x.shape}\")\n",
        "print(f\"val_x: {val_x.shape}\")\n",
        "print(f\"test_x: {test_x.shape}\")"
      ],
      "execution_count": null,
      "outputs": [
        {
          "output_type": "stream",
          "text": [
            "train_x: (38736, 2000)\n",
            "val_x: (4842, 2000)\n",
            "test_x: (4843, 2000)\n"
          ],
          "name": "stdout"
        }
      ]
    },
    {
      "cell_type": "code",
      "metadata": {
        "id": "eQt69HyNi2if"
      },
      "source": [
        "y_encode = {\n",
        "    1: [1, 0, 0, 0, 0],\n",
        "    2: [0, 1, 0, 0, 0],\n",
        "    3: [0, 0, 1, 0, 0],\n",
        "    4: [0, 0, 0, 1, 0],\n",
        "    5: [0, 0, 0, 0, 1]\n",
        "}\n",
        "part_data['y'] = part_data['overall'].apply(lambda x: y_encode[x])\n",
        "\n",
        "train_y = np.array(part_data['y'][: int(X.shape[0] * 0.8)].tolist())\n",
        "val_y = np.array(part_data['y'][int(X.shape[0] * 0.8): int(X.shape[0] * 0.9)].tolist())\n",
        "test_y = np.array(part_data['y'][int(X.shape[0] * 0.9) :].tolist())"
      ],
      "execution_count": null,
      "outputs": []
    },
    {
      "cell_type": "code",
      "metadata": {
        "id": "jYVqV9Swi2if"
      },
      "source": [
        "model = Sequential()\n",
        "model.add(Dense(256, input_dim=train_x.shape[1]))\n",
        "model.add(Dropout(rate=0.2))\n",
        "model.add(Dense(128, input_dim=train_x.shape[1]))\n",
        "model.add(Dropout(rate=0.2))\n",
        "model.add(Dense(5, activation='softmax'))\n",
        "\n",
        "model.compile(loss='categorical_crossentropy',optimizer='rmsprop',metrics=['accuracy'])"
      ],
      "execution_count": null,
      "outputs": []
    },
    {
      "cell_type": "code",
      "metadata": {
        "id": "cnruYoC5i2ig"
      },
      "source": [
        "callback = tf.keras.callbacks.EarlyStopping(\n",
        "    monitor='val_loss', patience=10,\n",
        "    mode='auto', restore_best_weights=False\n",
        ")# verbose"
      ],
      "execution_count": null,
      "outputs": []
    },
    {
      "cell_type": "code",
      "metadata": {
        "id": "OeywMwgEi2ig",
        "outputId": "65835d78-5b97-404b-bac2-a8ed377f56da"
      },
      "source": [
        "model.fit(train_x, train_y,\n",
        "          validation_data=(val_x, val_y),\n",
        "          epochs=100,\n",
        "          batch_size=64,\n",
        "          verbose=1, \n",
        "          callbacks=[callback])\n",
        "\n",
        "model.evaluate(test_x, test_y)[1]"
      ],
      "execution_count": null,
      "outputs": [
        {
          "output_type": "stream",
          "text": [
            "WARNING:tensorflow:Falling back from v2 loop because of error: Failed to find data adapter that can handle input: <class 'scipy.sparse.csr.csr_matrix'>, <class 'NoneType'>\n",
            "Train on 38736 samples, validate on 4842 samples\n",
            "Epoch 1/100\n",
            "38736/38736 [==============================] - 8s 213us/sample - loss: 0.9261 - accuracy: 0.6334 - val_loss: 0.7405 - val_accuracy: 0.7195\n",
            "Epoch 2/100\n",
            "38736/38736 [==============================] - 7s 191us/sample - loss: 0.8487 - accuracy: 0.6654 - val_loss: 0.7509 - val_accuracy: 0.7208\n",
            "Epoch 3/100\n",
            "38736/38736 [==============================] - 7s 191us/sample - loss: 0.8269 - accuracy: 0.6739 - val_loss: 0.7650 - val_accuracy: 0.7055\n",
            "Epoch 4/100\n",
            "38736/38736 [==============================] - 7s 191us/sample - loss: 0.8155 - accuracy: 0.6843 - val_loss: 0.7666 - val_accuracy: 0.7076\n",
            "Epoch 5/100\n",
            "38736/38736 [==============================] - 7s 191us/sample - loss: 0.8078 - accuracy: 0.6873 - val_loss: 0.7580 - val_accuracy: 0.7183\n",
            "Epoch 6/100\n",
            "38736/38736 [==============================] - 7s 191us/sample - loss: 0.8032 - accuracy: 0.6896 - val_loss: 0.7657 - val_accuracy: 0.7154\n",
            "Epoch 7/100\n",
            "38736/38736 [==============================] - 7s 190us/sample - loss: 0.7994 - accuracy: 0.6924 - val_loss: 0.7684 - val_accuracy: 0.7138\n",
            "Epoch 8/100\n",
            "38736/38736 [==============================] - 7s 191us/sample - loss: 0.7964 - accuracy: 0.6921 - val_loss: 0.7655 - val_accuracy: 0.7179\n",
            "Epoch 9/100\n",
            "38736/38736 [==============================] - 7s 193us/sample - loss: 0.7943 - accuracy: 0.6932 - val_loss: 0.7765 - val_accuracy: 0.7100\n",
            "Epoch 10/100\n",
            "38736/38736 [==============================] - 8s 194us/sample - loss: 0.7930 - accuracy: 0.6948 - val_loss: 0.7830 - val_accuracy: 0.7059\n",
            "Epoch 11/100\n",
            "38736/38736 [==============================] - 8s 198us/sample - loss: 0.7911 - accuracy: 0.6946 - val_loss: 0.7778 - val_accuracy: 0.7078\n",
            "WARNING:tensorflow:Falling back from v2 loop because of error: Failed to find data adapter that can handle input: <class 'scipy.sparse.csr.csr_matrix'>, <class 'NoneType'>\n",
            "4843/4843 [==============================] - 0s 61us/sample - loss: 0.7918 - accuracy: 0.7087\n"
          ],
          "name": "stdout"
        },
        {
          "output_type": "execute_result",
          "data": {
            "text/plain": [
              "0.70865166"
            ]
          },
          "metadata": {
            "tags": []
          },
          "execution_count": 20
        }
      ]
    },
    {
      "cell_type": "code",
      "metadata": {
        "id": "9R5C0vC4i2ig"
      },
      "source": [
        ""
      ],
      "execution_count": null,
      "outputs": []
    }
  ]
}