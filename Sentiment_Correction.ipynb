{
 "cells": [
  {
   "cell_type": "markdown",
   "metadata": {},
   "source": [
    "# Load Preprocessed Data"
   ]
  },
  {
   "cell_type": "code",
   "execution_count": 1,
   "metadata": {},
   "outputs": [],
   "source": [
    "import os\n",
    "import pickle\n",
    "import pandas as pd\n",
    "import numpy as np\n",
    "from concurrent.futures import ProcessPoolExecutor\n",
    "\n",
    "import matplotlib.pyplot as plt\n",
    "\n",
    "from config import RAW_DIR, PRE_DIR, RES_DIR\n",
    "from utils.data_porter import read_from_csv, save_to_csv\n",
    "\n",
    "from IPython.core.interactiveshell import InteractiveShell\n",
    "InteractiveShell.ast_node_interactivity = \"all\" "
   ]
  },
  {
   "cell_type": "code",
   "execution_count": 2,
   "metadata": {
    "scrolled": true
   },
   "outputs": [
    {
     "data": {
      "text/html": [
       "<div>\n",
       "<style scoped>\n",
       "    .dataframe tbody tr th:only-of-type {\n",
       "        vertical-align: middle;\n",
       "    }\n",
       "\n",
       "    .dataframe tbody tr th {\n",
       "        vertical-align: top;\n",
       "    }\n",
       "\n",
       "    .dataframe thead th {\n",
       "        text-align: right;\n",
       "    }\n",
       "</style>\n",
       "<table border=\"1\" class=\"dataframe\">\n",
       "  <thead>\n",
       "    <tr style=\"text-align: right;\">\n",
       "      <th></th>\n",
       "      <th>overall</th>\n",
       "      <th>asin</th>\n",
       "      <th>reviewTime</th>\n",
       "      <th>reviewerID</th>\n",
       "      <th>reviewerName</th>\n",
       "      <th>reviewText</th>\n",
       "      <th>summary</th>\n",
       "      <th>num_review_ps</th>\n",
       "      <th>num_review_gm</th>\n",
       "    </tr>\n",
       "  </thead>\n",
       "  <tbody>\n",
       "    <tr>\n",
       "      <th>0</th>\n",
       "      <td>5.0</td>\n",
       "      <td>B0000296O5</td>\n",
       "      <td>1999-10-14</td>\n",
       "      <td>A2AXQTB83VMK4L</td>\n",
       "      <td>Amazon Customer</td>\n",
       "      <td>I'm having the most fun I've ever had on PlayS...</td>\n",
       "      <td>Best RPG Ever!</td>\n",
       "      <td>6</td>\n",
       "      <td>268</td>\n",
       "    </tr>\n",
       "    <tr>\n",
       "      <th>1</th>\n",
       "      <td>4.0</td>\n",
       "      <td>B00002NDRY</td>\n",
       "      <td>1999-11-05</td>\n",
       "      <td>A2T04VAIXSKJH2</td>\n",
       "      <td>Stefan</td>\n",
       "      <td>I'm usually not crazy about real-time strategy...</td>\n",
       "      <td>Good real time strategy game</td>\n",
       "      <td>6</td>\n",
       "      <td>67</td>\n",
       "    </tr>\n",
       "    <tr>\n",
       "      <th>2</th>\n",
       "      <td>5.0</td>\n",
       "      <td>B000021Y5F</td>\n",
       "      <td>1999-11-10</td>\n",
       "      <td>A1QA8K3LD9K892</td>\n",
       "      <td>Chris Adamson</td>\n",
       "      <td>Williams made games for hard-core arcade gamer...</td>\n",
       "      <td>A cool 80's artifact</td>\n",
       "      <td>23</td>\n",
       "      <td>7</td>\n",
       "    </tr>\n",
       "    <tr>\n",
       "      <th>3</th>\n",
       "      <td>4.0</td>\n",
       "      <td>B00000JL6V</td>\n",
       "      <td>1999-11-10</td>\n",
       "      <td>AMGJMFJ63DWWH</td>\n",
       "      <td>Ed Matuskey</td>\n",
       "      <td>Once again you put your hand to the book, and ...</td>\n",
       "      <td>Beautiful game, with excellent (and hard!) puz...</td>\n",
       "      <td>5</td>\n",
       "      <td>37</td>\n",
       "    </tr>\n",
       "    <tr>\n",
       "      <th>4</th>\n",
       "      <td>5.0</td>\n",
       "      <td>B00000K4AX</td>\n",
       "      <td>1999-11-10</td>\n",
       "      <td>A3VWWQT4XDSBGQ</td>\n",
       "      <td>Joshua W. Fenton</td>\n",
       "      <td>If you loved Half-Life, this is a must buy. I ...</td>\n",
       "      <td>AWESOME!</td>\n",
       "      <td>5</td>\n",
       "      <td>26</td>\n",
       "    </tr>\n",
       "  </tbody>\n",
       "</table>\n",
       "</div>"
      ],
      "text/plain": [
       "   overall        asin reviewTime      reviewerID      reviewerName  \\\n",
       "0      5.0  B0000296O5 1999-10-14  A2AXQTB83VMK4L   Amazon Customer   \n",
       "1      4.0  B00002NDRY 1999-11-05  A2T04VAIXSKJH2            Stefan   \n",
       "2      5.0  B000021Y5F 1999-11-10  A1QA8K3LD9K892     Chris Adamson   \n",
       "3      4.0  B00000JL6V 1999-11-10   AMGJMFJ63DWWH       Ed Matuskey   \n",
       "4      5.0  B00000K4AX 1999-11-10  A3VWWQT4XDSBGQ  Joshua W. Fenton   \n",
       "\n",
       "                                          reviewText  \\\n",
       "0  I'm having the most fun I've ever had on PlayS...   \n",
       "1  I'm usually not crazy about real-time strategy...   \n",
       "2  Williams made games for hard-core arcade gamer...   \n",
       "3  Once again you put your hand to the book, and ...   \n",
       "4  If you loved Half-Life, this is a must buy. I ...   \n",
       "\n",
       "                                             summary  num_review_ps  \\\n",
       "0                                     Best RPG Ever!              6   \n",
       "1                       Good real time strategy game              6   \n",
       "2                               A cool 80's artifact             23   \n",
       "3  Beautiful game, with excellent (and hard!) puz...              5   \n",
       "4                                           AWESOME!              5   \n",
       "\n",
       "   num_review_gm  \n",
       "0            268  \n",
       "1             67  \n",
       "2              7  \n",
       "3             37  \n",
       "4             26  "
      ]
     },
     "execution_count": 2,
     "metadata": {},
     "output_type": "execute_result"
    },
    {
     "data": {
      "text/html": [
       "<div>\n",
       "<style scoped>\n",
       "    .dataframe tbody tr th:only-of-type {\n",
       "        vertical-align: middle;\n",
       "    }\n",
       "\n",
       "    .dataframe tbody tr th {\n",
       "        vertical-align: top;\n",
       "    }\n",
       "\n",
       "    .dataframe thead th {\n",
       "        text-align: right;\n",
       "    }\n",
       "</style>\n",
       "<table border=\"1\" class=\"dataframe\">\n",
       "  <thead>\n",
       "    <tr style=\"text-align: right;\">\n",
       "      <th></th>\n",
       "      <th>overall</th>\n",
       "      <th>asin</th>\n",
       "      <th>reviewTime</th>\n",
       "      <th>reviewerID</th>\n",
       "      <th>reviewerName</th>\n",
       "      <th>reviewText</th>\n",
       "      <th>summary</th>\n",
       "      <th>num_review_ps</th>\n",
       "      <th>num_review_gm</th>\n",
       "    </tr>\n",
       "  </thead>\n",
       "  <tbody>\n",
       "    <tr>\n",
       "      <th>424371</th>\n",
       "      <td>3.0</td>\n",
       "      <td>B00L59D9HG</td>\n",
       "      <td>2017-01-16</td>\n",
       "      <td>A1JO2IPCY1J4PS</td>\n",
       "      <td>Honest Frizz</td>\n",
       "      <td>No problem at all with the charger itself.  It...</td>\n",
       "      <td>You have to buy it Separately</td>\n",
       "      <td>5</td>\n",
       "      <td>390</td>\n",
       "    </tr>\n",
       "    <tr>\n",
       "      <th>424372</th>\n",
       "      <td>5.0</td>\n",
       "      <td>B00005ATSN</td>\n",
       "      <td>2017-01-16</td>\n",
       "      <td>ANVJU2ROVJC8A</td>\n",
       "      <td>Jemi Linked</td>\n",
       "      <td>Great game!</td>\n",
       "      <td>LOZ forever!</td>\n",
       "      <td>9</td>\n",
       "      <td>38</td>\n",
       "    </tr>\n",
       "    <tr>\n",
       "      <th>424373</th>\n",
       "      <td>5.0</td>\n",
       "      <td>B015OYM10I</td>\n",
       "      <td>2017-01-16</td>\n",
       "      <td>A19K4H7U79QKE0</td>\n",
       "      <td>Rafael Quintero</td>\n",
       "      <td>Awesome!</td>\n",
       "      <td>Five Stars</td>\n",
       "      <td>11</td>\n",
       "      <td>45</td>\n",
       "    </tr>\n",
       "    <tr>\n",
       "      <th>424374</th>\n",
       "      <td>5.0</td>\n",
       "      <td>B00Y4S5KPY</td>\n",
       "      <td>2017-01-16</td>\n",
       "      <td>A11JVJHDF59HJC</td>\n",
       "      <td>Hammerton</td>\n",
       "      <td>Son loves it and works with other razer color ...</td>\n",
       "      <td>Five Stars</td>\n",
       "      <td>7</td>\n",
       "      <td>119</td>\n",
       "    </tr>\n",
       "    <tr>\n",
       "      <th>424375</th>\n",
       "      <td>1.0</td>\n",
       "      <td>B00O4FOB3O</td>\n",
       "      <td>2017-01-16</td>\n",
       "      <td>A1JXGU255ZN7JJ</td>\n",
       "      <td>MasterBlaster</td>\n",
       "      <td>I'm updating my review after having used these...</td>\n",
       "      <td>great to start but...</td>\n",
       "      <td>8</td>\n",
       "      <td>31</td>\n",
       "    </tr>\n",
       "  </tbody>\n",
       "</table>\n",
       "</div>"
      ],
      "text/plain": [
       "        overall        asin reviewTime      reviewerID     reviewerName  \\\n",
       "424371      3.0  B00L59D9HG 2017-01-16  A1JO2IPCY1J4PS     Honest Frizz   \n",
       "424372      5.0  B00005ATSN 2017-01-16   ANVJU2ROVJC8A      Jemi Linked   \n",
       "424373      5.0  B015OYM10I 2017-01-16  A19K4H7U79QKE0  Rafael Quintero   \n",
       "424374      5.0  B00Y4S5KPY 2017-01-16  A11JVJHDF59HJC        Hammerton   \n",
       "424375      1.0  B00O4FOB3O 2017-01-16  A1JXGU255ZN7JJ    MasterBlaster   \n",
       "\n",
       "                                               reviewText  \\\n",
       "424371  No problem at all with the charger itself.  It...   \n",
       "424372                                        Great game!   \n",
       "424373                                           Awesome!   \n",
       "424374  Son loves it and works with other razer color ...   \n",
       "424375  I'm updating my review after having used these...   \n",
       "\n",
       "                              summary  num_review_ps  num_review_gm  \n",
       "424371  You have to buy it Separately              5            390  \n",
       "424372                   LOZ forever!              9             38  \n",
       "424373                     Five Stars             11             45  \n",
       "424374                     Five Stars              7            119  \n",
       "424375          great to start but...              8             31  "
      ]
     },
     "execution_count": 2,
     "metadata": {},
     "output_type": "execute_result"
    }
   ],
   "source": [
    "with open(os.path.join(PRE_DIR, 'train_data.pkl'), 'rb') as f:\n",
    "    train_data = pickle.load(f)\n",
    "train_data.head()\n",
    "\n",
    "with open(os.path.join(PRE_DIR, 'test_data.pkl'), 'rb') as f:\n",
    "    test_data = pickle.load(f)\n",
    "test_data.head()"
   ]
  },
  {
   "cell_type": "markdown",
   "metadata": {},
   "source": [
    "# NLP Processing"
   ]
  },
  {
   "cell_type": "code",
   "execution_count": 3,
   "metadata": {},
   "outputs": [],
   "source": [
    "import re\n",
    "# Use nltk for text processing\n",
    "# Note: the original corpus of nltk is no longer available for download and needs to be manually added locally\n",
    "import nltk\n",
    "# nltk.download('stopwords')\n",
    "# manually add\n",
    "from nltk.corpus import stopwords\n",
    "from nltk.sentiment.vader import SentimentIntensityAnalyzer\n",
    "english_stemmer=nltk.stem.SnowballStemmer('english')"
   ]
  },
  {
   "cell_type": "code",
   "execution_count": 4,
   "metadata": {
    "code_folding": []
   },
   "outputs": [],
   "source": [
    "def data_clean(rev, remove_stopwords=True): \n",
    "    try:\n",
    "        # only retain English characters\n",
    "        new_text = re.sub(\"[^a-zA-Z]\",\" \", rev)\n",
    "    except:\n",
    "        print(rev)\n",
    "        new_text = []\n",
    "   # Lowercase all letters and split words\n",
    "    words = new_text.lower().split()\n",
    "    \n",
    "    if remove_stopwords:\n",
    "        sts = set(stopwords.words(\"english\"))\n",
    "        words = [w for w in words if not w in sts]\n",
    "    ary=[]\n",
    "    eng_stemmer = english_stemmer \n",
    "    for word in words:\n",
    "        ary.append(eng_stemmer.stem(word))\n",
    "\n",
    "    new_ary = ' '.join(ary)\n",
    "    return(new_ary)"
   ]
  },
  {
   "cell_type": "code",
   "execution_count": 5,
   "metadata": {},
   "outputs": [],
   "source": [
    "# Define multi-threaded data processing functions\n",
    "\n",
    "def generate_tasks(data, process_num):\n",
    "    num = data.shape[0]\n",
    "    tasks = []\n",
    "    for i in range(process_num):\n",
    "        tasks.append((data[int(i*num/process_num): int((i+1)*num/process_num)],))\n",
    "    return tasks\n",
    "\n",
    "SIA = SentimentIntensityAnalyzer()\n",
    "def split_and_emo(data, emo_type_lst=['pos', 'neg'], sia=SIA):\n",
    "    data['docs'] = data.apply(lambda x: data_clean(x.reviewText) + data_clean(x.summary), axis=1)\n",
    "    for emo_type in emo_type_lst:\n",
    "        data[emo_type] = data['docs'].apply(lambda x: sia.polarity_scores(x)[emo_type])\n",
    "    return data\n",
    "\n",
    "def npl_for_multi(args):\n",
    "    res = split_and_emo(*args)\n",
    "    res = res.reset_index(drop=True)\n",
    "    return res"
   ]
  },
  {
   "cell_type": "code",
   "execution_count": 6,
   "metadata": {},
   "outputs": [],
   "source": [
    "# Users who did not comment a review are filled with ''\n",
    "train_data = train_data.fillna('')"
   ]
  },
  {
   "cell_type": "code",
   "execution_count": 7,
   "metadata": {},
   "outputs": [],
   "source": [
    "# import time\n",
    "\n",
    "# sample = train_data.iloc[: 5000]\n",
    "\n",
    "# start = time.time()\n",
    "# sample['docs'] = sample.apply(lambda x: data_clean(x.reviewText) + data_clean(x.summary), axis=1)\n",
    "# sample['pos'] = sample['docs'].apply(lambda x: SIA.polarity_scores(x)['pos'])\n",
    "# elapsed = (time.time() - start)\n",
    "# print(\"Time used:\",elapsed)\n",
    "\n",
    "# start = time.time()\n",
    "# process_num = 7\n",
    "# tasks = generate_tasks(sample, process_num)\n",
    "# with ProcessPoolExecutor(max_workers=process_num) as excutor:\n",
    "#     mul_data = excutor.map(npl_for_multi, tasks)\n",
    "# elapsed = (time.time() - start)\n",
    "# print(\"Time used:\",elapsed)"
   ]
  },
  {
   "cell_type": "code",
   "execution_count": 8,
   "metadata": {},
   "outputs": [
    {
     "data": {
      "text/html": [
       "<div>\n",
       "<style scoped>\n",
       "    .dataframe tbody tr th:only-of-type {\n",
       "        vertical-align: middle;\n",
       "    }\n",
       "\n",
       "    .dataframe tbody tr th {\n",
       "        vertical-align: top;\n",
       "    }\n",
       "\n",
       "    .dataframe thead th {\n",
       "        text-align: right;\n",
       "    }\n",
       "</style>\n",
       "<table border=\"1\" class=\"dataframe\">\n",
       "  <thead>\n",
       "    <tr style=\"text-align: right;\">\n",
       "      <th></th>\n",
       "      <th>overall</th>\n",
       "      <th>asin</th>\n",
       "      <th>reviewTime</th>\n",
       "      <th>reviewerID</th>\n",
       "      <th>reviewerName</th>\n",
       "      <th>reviewText</th>\n",
       "      <th>summary</th>\n",
       "      <th>num_review_ps</th>\n",
       "      <th>num_review_gm</th>\n",
       "      <th>docs</th>\n",
       "      <th>pos</th>\n",
       "      <th>neg</th>\n",
       "    </tr>\n",
       "  </thead>\n",
       "  <tbody>\n",
       "    <tr>\n",
       "      <th>0</th>\n",
       "      <td>5.0</td>\n",
       "      <td>B0000296O5</td>\n",
       "      <td>1999-10-14</td>\n",
       "      <td>A2AXQTB83VMK4L</td>\n",
       "      <td>Amazon Customer</td>\n",
       "      <td>I'm having the most fun I've ever had on PlayS...</td>\n",
       "      <td>Best RPG Ever!</td>\n",
       "      <td>6</td>\n",
       "      <td>268</td>\n",
       "      <td>fun ever playstat high recommend best rpg ever...</td>\n",
       "      <td>0.588</td>\n",
       "      <td>0.000</td>\n",
       "    </tr>\n",
       "    <tr>\n",
       "      <th>1</th>\n",
       "      <td>4.0</td>\n",
       "      <td>B00002NDRY</td>\n",
       "      <td>1999-11-05</td>\n",
       "      <td>A2T04VAIXSKJH2</td>\n",
       "      <td>Stefan</td>\n",
       "      <td>I'm usually not crazy about real-time strategy...</td>\n",
       "      <td>Good real time strategy game</td>\n",
       "      <td>6</td>\n",
       "      <td>67</td>\n",
       "      <td>usual crazi real time strategi game tend becom...</td>\n",
       "      <td>0.306</td>\n",
       "      <td>0.000</td>\n",
       "    </tr>\n",
       "    <tr>\n",
       "      <th>2</th>\n",
       "      <td>5.0</td>\n",
       "      <td>B000021Y5F</td>\n",
       "      <td>1999-11-10</td>\n",
       "      <td>A1QA8K3LD9K892</td>\n",
       "      <td>Chris Adamson</td>\n",
       "      <td>Williams made games for hard-core arcade gamer...</td>\n",
       "      <td>A cool 80's artifact</td>\n",
       "      <td>23</td>\n",
       "      <td>7</td>\n",
       "      <td>william made game hard core arcad gamer collec...</td>\n",
       "      <td>0.181</td>\n",
       "      <td>0.102</td>\n",
       "    </tr>\n",
       "    <tr>\n",
       "      <th>3</th>\n",
       "      <td>4.0</td>\n",
       "      <td>B00000JL6V</td>\n",
       "      <td>1999-11-10</td>\n",
       "      <td>AMGJMFJ63DWWH</td>\n",
       "      <td>Ed Matuskey</td>\n",
       "      <td>Once again you put your hand to the book, and ...</td>\n",
       "      <td>Beautiful game, with excellent (and hard!) puz...</td>\n",
       "      <td>5</td>\n",
       "      <td>37</td>\n",
       "      <td>put hand book enter anoth world time riven eff...</td>\n",
       "      <td>0.347</td>\n",
       "      <td>0.031</td>\n",
       "    </tr>\n",
       "    <tr>\n",
       "      <th>4</th>\n",
       "      <td>5.0</td>\n",
       "      <td>B00000K4AX</td>\n",
       "      <td>1999-11-10</td>\n",
       "      <td>A3VWWQT4XDSBGQ</td>\n",
       "      <td>Joshua W. Fenton</td>\n",
       "      <td>If you loved Half-Life, this is a must buy. I ...</td>\n",
       "      <td>AWESOME!</td>\n",
       "      <td>5</td>\n",
       "      <td>26</td>\n",
       "      <td>love half life must buy big fpshooter fan ss l...</td>\n",
       "      <td>0.388</td>\n",
       "      <td>0.060</td>\n",
       "    </tr>\n",
       "  </tbody>\n",
       "</table>\n",
       "</div>"
      ],
      "text/plain": [
       "   overall        asin reviewTime      reviewerID      reviewerName  \\\n",
       "0      5.0  B0000296O5 1999-10-14  A2AXQTB83VMK4L   Amazon Customer   \n",
       "1      4.0  B00002NDRY 1999-11-05  A2T04VAIXSKJH2            Stefan   \n",
       "2      5.0  B000021Y5F 1999-11-10  A1QA8K3LD9K892     Chris Adamson   \n",
       "3      4.0  B00000JL6V 1999-11-10   AMGJMFJ63DWWH       Ed Matuskey   \n",
       "4      5.0  B00000K4AX 1999-11-10  A3VWWQT4XDSBGQ  Joshua W. Fenton   \n",
       "\n",
       "                                          reviewText  \\\n",
       "0  I'm having the most fun I've ever had on PlayS...   \n",
       "1  I'm usually not crazy about real-time strategy...   \n",
       "2  Williams made games for hard-core arcade gamer...   \n",
       "3  Once again you put your hand to the book, and ...   \n",
       "4  If you loved Half-Life, this is a must buy. I ...   \n",
       "\n",
       "                                             summary  num_review_ps  \\\n",
       "0                                     Best RPG Ever!              6   \n",
       "1                       Good real time strategy game              6   \n",
       "2                               A cool 80's artifact             23   \n",
       "3  Beautiful game, with excellent (and hard!) puz...              5   \n",
       "4                                           AWESOME!              5   \n",
       "\n",
       "   num_review_gm                                               docs    pos  \\\n",
       "0            268  fun ever playstat high recommend best rpg ever...  0.588   \n",
       "1             67  usual crazi real time strategi game tend becom...  0.306   \n",
       "2              7  william made game hard core arcad gamer collec...  0.181   \n",
       "3             37  put hand book enter anoth world time riven eff...  0.347   \n",
       "4             26  love half life must buy big fpshooter fan ss l...  0.388   \n",
       "\n",
       "     neg  \n",
       "0  0.000  \n",
       "1  0.000  \n",
       "2  0.102  \n",
       "3  0.031  \n",
       "4  0.060  "
      ]
     },
     "execution_count": 8,
     "metadata": {},
     "output_type": "execute_result"
    }
   ],
   "source": [
    "process_num = 7\n",
    "tasks = generate_tasks(train_data, process_num)\n",
    "with ProcessPoolExecutor(max_workers=process_num) as excutor:\n",
    "    mul_data = excutor.map(npl_for_multi, tasks)\n",
    "nlp_data = pd.concat(mul_data)\n",
    "nlp_data.head()"
   ]
  },
  {
   "cell_type": "code",
   "execution_count": 9,
   "metadata": {
    "scrolled": true
   },
   "outputs": [
    {
     "data": {
      "text/plain": [
       "1.0"
      ]
     },
     "execution_count": 9,
     "metadata": {},
     "output_type": "execute_result"
    },
    {
     "data": {
      "text/plain": [
       "0.0"
      ]
     },
     "execution_count": 9,
     "metadata": {},
     "output_type": "execute_result"
    },
    {
     "data": {
      "text/plain": [
       "0.27527164909958"
      ]
     },
     "execution_count": 9,
     "metadata": {},
     "output_type": "execute_result"
    }
   ],
   "source": [
    "nlp_data['pos'].max()\n",
    "nlp_data['pos'].min()\n",
    "nlp_data['pos'].mean()"
   ]
  },
  {
   "cell_type": "code",
   "execution_count": 10,
   "metadata": {},
   "outputs": [
    {
     "data": {
      "text/plain": [
       "0.935"
      ]
     },
     "execution_count": 10,
     "metadata": {},
     "output_type": "execute_result"
    },
    {
     "data": {
      "text/plain": [
       "0.0"
      ]
     },
     "execution_count": 10,
     "metadata": {},
     "output_type": "execute_result"
    },
    {
     "data": {
      "text/plain": [
       "0.06115133456338939"
      ]
     },
     "execution_count": 10,
     "metadata": {},
     "output_type": "execute_result"
    }
   ],
   "source": [
    "nlp_data['neg'].max()\n",
    "nlp_data['neg'].min()\n",
    "nlp_data['neg'].mean()"
   ]
  },
  {
   "cell_type": "code",
   "execution_count": 11,
   "metadata": {},
   "outputs": [
    {
     "data": {
      "text/plain": [
       "<matplotlib.collections.PathCollection at 0x1a3bb9f630>"
      ]
     },
     "execution_count": 11,
     "metadata": {},
     "output_type": "execute_result"
    },
    {
     "data": {
      "text/plain": [
       "<matplotlib.collections.PathCollection at 0x1a3bb9fb38>"
      ]
     },
     "execution_count": 11,
     "metadata": {},
     "output_type": "execute_result"
    },
    {
     "data": {
      "text/plain": [
       "<matplotlib.legend.Legend at 0x1a4543e748>"
      ]
     },
     "execution_count": 11,
     "metadata": {},
     "output_type": "execute_result"
    },
    {
     "data": {
      "image/png": "[encoded data removed]",
      "text/plain": [
       "<Figure size 432x288 with 1 Axes>"
      ]
     },
     "metadata": {
      "needs_background": "light"
     },
     "output_type": "display_data"
    }
   ],
   "source": [
    "# Overview of the distribution of user sentiment ratings\n",
    "\n",
    "nlp_data = nlp_data.sort_values(by=['pos', 'neg'], ascending=[True, False])\n",
    "plt.scatter(range(nlp_data.shape[0]), nlp_data['pos'], s=0.01, label='pos')\n",
    "plt.scatter(range(nlp_data.shape[0]), nlp_data['neg'], s=0.01, label='neg')\n",
    "plt.legend()"
   ]
  },
  {
   "cell_type": "markdown",
   "metadata": {},
   "source": [
    "## Positive Correction"
   ]
  },
  {
   "cell_type": "code",
   "execution_count": 12,
   "metadata": {},
   "outputs": [],
   "source": [
    "from surprise import SVD\n",
    "from surprise import accuracy\n",
    "from surprise import Reader\n",
    "from surprise.model_selection import GridSearchCV\n",
    "from surprise import Dataset\n",
    "from surprise import BaselineOnly, KNNBaseline\n",
    "\n",
    "from sklearn.metrics import r2_score\n",
    "from sklearn.metrics import mean_absolute_error as mae"
   ]
  },
  {
   "cell_type": "code",
   "execution_count": 13,
   "metadata": {},
   "outputs": [],
   "source": [
    "def print_metrics_sp(predictions):\n",
    "    mae_score = accuracy.mae(predictions)\n",
    "    mse_score = accuracy.mse(predictions)\n",
    "    return mae_score, mse_score"
   ]
  },
  {
   "cell_type": "code",
   "execution_count": 14,
   "metadata": {},
   "outputs": [],
   "source": [
    "reader = Reader(rating_scale = (0.0, 5.0))\n",
    "test_rate = test_data[['asin', 'reviewerID', 'overall']]\n",
    "test_set = Dataset.load_from_df(test_rate, reader).build_full_trainset().build_testset()"
   ]
  },
  {
   "cell_type": "code",
   "execution_count": 15,
   "metadata": {},
   "outputs": [],
   "source": [
    "nlp_data['overall'] = nlp_data.apply(lambda x: x.overall + x.pos if x.overall < 5 else 5, axis=1)"
   ]
  },
  {
   "cell_type": "code",
   "execution_count": 16,
   "metadata": {},
   "outputs": [],
   "source": [
    "nlp_train_rate = nlp_data[['asin', 'reviewerID', 'overall']]\n",
    "nlp_train_set = Dataset.load_from_df(nlp_train_rate, reader).build_full_trainset()"
   ]
  },
  {
   "cell_type": "markdown",
   "metadata": {},
   "source": [
    "We have selected the optimal parameters and confirmed that the larger the data, the better the model, so here we use the optimal parameters, the 90% data as training set and the same test set as in the Basic_Model to compare the results"
   ]
  },
  {
   "cell_type": "code",
   "execution_count": 17,
   "metadata": {
    "scrolled": true
   },
   "outputs": [
    {
     "name": "stdout",
     "output_type": "stream",
     "text": [
      "Estimating biases using als...\n"
     ]
    },
    {
     "data": {
      "text/plain": [
       "<surprise.prediction_algorithms.baseline_only.BaselineOnly at 0x1206d4ac8>"
      ]
     },
     "execution_count": 17,
     "metadata": {},
     "output_type": "execute_result"
    },
    {
     "name": "stdout",
     "output_type": "stream",
     "text": [
      "MAE:  0.8202\n",
      "MSE: 1.2192\n"
     ]
    }
   ],
   "source": [
    "bsl_options = {\n",
    "    'method': 'als',\n",
    "    'n_factors':200, \n",
    "    'n_epochs':30,\n",
    "    'lr_all':0.005,\n",
    "    'reg_all':0.1\n",
    "}\n",
    "bias_baseline = BaselineOnly(bsl_options)\n",
    "bias_baseline.fit(nlp_train_set)\n",
    "predictions = bias_baseline.test(test_set)\n",
    "\n",
    "_, _ = print_metrics_sp(predictions)"
   ]
  },
  {
   "cell_type": "code",
   "execution_count": 18,
   "metadata": {},
   "outputs": [
    {
     "data": {
      "text/plain": [
       "<surprise.prediction_algorithms.matrix_factorization.SVD at 0x130421e10>"
      ]
     },
     "execution_count": 18,
     "metadata": {},
     "output_type": "execute_result"
    },
    {
     "name": "stdout",
     "output_type": "stream",
     "text": [
      "MAE:  0.7936\n",
      "MSE: 1.2154\n"
     ]
    }
   ],
   "source": [
    "# Test set\n",
    "\n",
    "bias_sgd = SVD(n_factors=10, n_epochs=30, lr_all=0.005, reg_all=0.01)\n",
    "bias_sgd.fit(nlp_train_set)\n",
    "predictions = bias_sgd.test(test_set)\n",
    "_, _ = print_metrics_sp(predictions)"
   ]
  },
  {
   "cell_type": "code",
   "execution_count": 19,
   "metadata": {},
   "outputs": [
    {
     "name": "stdout",
     "output_type": "stream",
     "text": [
      "Estimating biases using als...\n",
      "Computing the cosine similarity matrix...\n",
      "Done computing similarity matrix.\n"
     ]
    },
    {
     "data": {
      "text/plain": [
       "<surprise.prediction_algorithms.knns.KNNBaseline at 0x10dbf0588>"
      ]
     },
     "execution_count": 19,
     "metadata": {},
     "output_type": "execute_result"
    },
    {
     "name": "stdout",
     "output_type": "stream",
     "text": [
      "MAE:  0.8121\n",
      "MSE: 1.2330\n"
     ]
    }
   ],
   "source": [
    "# Test set\n",
    "\n",
    "knn_model = KNNBaseline(k=50, min_k=2, sim_options={'name': 'cosine'})\n",
    "knn_model.fit(nlp_train_set)\n",
    "predictions = knn_model.test(test_set)\n",
    "_, _ = print_metrics_sp(predictions)"
   ]
  },
  {
   "cell_type": "markdown",
   "metadata": {},
   "source": [
    "## Negative Correction"
   ]
  },
  {
   "cell_type": "code",
   "execution_count": 20,
   "metadata": {},
   "outputs": [],
   "source": [
    "nlp_data['overall'] = nlp_data.apply(lambda x: int(x.overall - x.neg) if x.overall < 5 else 5, axis=1)"
   ]
  },
  {
   "cell_type": "code",
   "execution_count": 21,
   "metadata": {},
   "outputs": [],
   "source": [
    "nlp_train_rate = nlp_data[['asin', 'reviewerID', 'overall']]\n",
    "nlp_train_set = Dataset.load_from_df(nlp_train_rate, reader).build_full_trainset()"
   ]
  },
  {
   "cell_type": "code",
   "execution_count": 22,
   "metadata": {},
   "outputs": [
    {
     "name": "stdout",
     "output_type": "stream",
     "text": [
      "Estimating biases using als...\n"
     ]
    },
    {
     "data": {
      "text/plain": [
       "<surprise.prediction_algorithms.baseline_only.BaselineOnly at 0x12dd8b7b8>"
      ]
     },
     "execution_count": 22,
     "metadata": {},
     "output_type": "execute_result"
    },
    {
     "name": "stdout",
     "output_type": "stream",
     "text": [
      "MAE:  0.8700\n",
      "MSE: 1.2339\n"
     ]
    }
   ],
   "source": [
    "bsl_options = {\n",
    "    'method': 'als',\n",
    "    'n_factors':200, \n",
    "    'n_epochs':30,\n",
    "    'lr_all':0.005,\n",
    "    'reg_all':0.1\n",
    "}\n",
    "bias_baseline = BaselineOnly(bsl_options)\n",
    "bias_baseline.fit(nlp_train_set)\n",
    "predictions = bias_baseline.test(test_set)\n",
    "\n",
    "_, _ = print_metrics_sp(predictions)"
   ]
  },
  {
   "cell_type": "code",
   "execution_count": 23,
   "metadata": {},
   "outputs": [
    {
     "data": {
      "text/plain": [
       "<surprise.prediction_algorithms.matrix_factorization.SVD at 0x12dd8b9b0>"
      ]
     },
     "execution_count": 23,
     "metadata": {},
     "output_type": "execute_result"
    },
    {
     "name": "stdout",
     "output_type": "stream",
     "text": [
      "MAE:  0.8623\n",
      "MSE: 1.2616\n"
     ]
    }
   ],
   "source": [
    "bias_sgd = SVD(n_factors=200, n_epochs=30, lr_all=0.005, reg_all=0.02)\n",
    "bias_sgd.fit(nlp_train_set)\n",
    "predictions = bias_sgd.test(test_set)\n",
    "_, _ = print_metrics_sp(predictions)"
   ]
  },
  {
   "cell_type": "code",
   "execution_count": 24,
   "metadata": {},
   "outputs": [
    {
     "data": {
      "text/plain": [
       "<surprise.prediction_algorithms.matrix_factorization.SVD at 0x12ddc2d68>"
      ]
     },
     "execution_count": 24,
     "metadata": {},
     "output_type": "execute_result"
    },
    {
     "name": "stdout",
     "output_type": "stream",
     "text": [
      "MAE:  0.8430\n",
      "MSE: 1.2407\n"
     ]
    }
   ],
   "source": [
    "# Test set\n",
    "\n",
    "bias_sgd = SVD(n_factors=10, n_epochs=30, lr_all=0.005, reg_all=0.01)\n",
    "bias_sgd.fit(nlp_train_set)\n",
    "predictions = bias_sgd.test(test_set)\n",
    "_, _ = print_metrics_sp(predictions)"
   ]
  },
  {
   "cell_type": "code",
   "execution_count": 25,
   "metadata": {},
   "outputs": [
    {
     "name": "stdout",
     "output_type": "stream",
     "text": [
      "Estimating biases using als...\n",
      "Computing the cosine similarity matrix...\n",
      "Done computing similarity matrix.\n"
     ]
    },
    {
     "name": "stderr",
     "output_type": "stream",
     "text": [
      "/anaconda3/lib/python3.7/site-packages/surprise/prediction_algorithms/algo_base.py:249: RuntimeWarning: invalid value encountered in double_scalars\n",
      "  sim = construction_func[name](*args)\n"
     ]
    },
    {
     "data": {
      "text/plain": [
       "<surprise.prediction_algorithms.knns.KNNBaseline at 0x12dda8048>"
      ]
     },
     "execution_count": 25,
     "metadata": {},
     "output_type": "execute_result"
    },
    {
     "name": "stdout",
     "output_type": "stream",
     "text": [
      "MAE:  0.8631\n",
      "MSE: 1.2643\n"
     ]
    }
   ],
   "source": [
    "# Test set\n",
    "\n",
    "knn_model = KNNBaseline(k=50, min_k=2, sim_options={'name': 'cosine'})\n",
    "knn_model.fit(nlp_train_set)\n",
    "predictions = knn_model.test(test_set)\n",
    "_, _ = print_metrics_sp(predictions)"
   ]
  },
  {
   "cell_type": "markdown",
   "metadata": {},
   "source": [
    "## Pos/Neg Correction"
   ]
  },
  {
   "cell_type": "code",
   "execution_count": 26,
   "metadata": {},
   "outputs": [],
   "source": [
    "def cal_pos_to_neg(overall, pos, neg):\n",
    "    if overall == 5 or overall == 0:\n",
    "        return overall\n",
    "    if pos == 0 or neg == 0:\n",
    "        return overall\n",
    "    else:\n",
    "        return overall * (pos/neg)"
   ]
  },
  {
   "cell_type": "code",
   "execution_count": 27,
   "metadata": {},
   "outputs": [],
   "source": [
    "nlp_data['overall'] = nlp_data.apply(lambda x: cal_pos_to_neg(x.overall, x.pos, x.neg), axis=1)"
   ]
  },
  {
   "cell_type": "code",
   "execution_count": 28,
   "metadata": {},
   "outputs": [],
   "source": [
    "nlp_train_rate = nlp_data[['asin', 'reviewerID', 'overall']]\n",
    "nlp_train_set = Dataset.load_from_df(nlp_train_rate, reader).build_full_trainset()"
   ]
  },
  {
   "cell_type": "code",
   "execution_count": 29,
   "metadata": {},
   "outputs": [
    {
     "name": "stdout",
     "output_type": "stream",
     "text": [
      "Estimating biases using als...\n"
     ]
    },
    {
     "data": {
      "text/plain": [
       "<surprise.prediction_algorithms.baseline_only.BaselineOnly at 0x1206d4668>"
      ]
     },
     "execution_count": 29,
     "metadata": {},
     "output_type": "execute_result"
    },
    {
     "name": "stdout",
     "output_type": "stream",
     "text": [
      "MAE:  0.6729\n",
      "MSE: 1.6875\n"
     ]
    }
   ],
   "source": [
    "bsl_options = {\n",
    "    'method': 'als',\n",
    "    'n_factors':200, \n",
    "    'n_epochs':30,\n",
    "    'lr_all':0.005,\n",
    "    'reg_all':0.1\n",
    "}\n",
    "bias_baseline = BaselineOnly(bsl_options)\n",
    "bias_baseline.fit(nlp_train_set)\n",
    "predictions = bias_baseline.test(test_set)\n",
    "\n",
    "_, _ = print_metrics_sp(predictions)"
   ]
  },
  {
   "cell_type": "code",
   "execution_count": 30,
   "metadata": {},
   "outputs": [
    {
     "data": {
      "text/plain": [
       "<surprise.prediction_algorithms.matrix_factorization.SVD at 0x1206d49b0>"
      ]
     },
     "execution_count": 30,
     "metadata": {},
     "output_type": "execute_result"
    },
    {
     "name": "stdout",
     "output_type": "stream",
     "text": [
      "MAE:  0.7271\n",
      "MSE: 1.7913\n"
     ]
    }
   ],
   "source": [
    "# Test set\n",
    "\n",
    "bias_sgd = SVD(n_factors=10, n_epochs=30, lr_all=0.005, reg_all=0.01)\n",
    "bias_sgd.fit(nlp_train_set)\n",
    "predictions = bias_sgd.test(test_set)\n",
    "_, _ = print_metrics_sp(predictions)"
   ]
  },
  {
   "cell_type": "code",
   "execution_count": 31,
   "metadata": {},
   "outputs": [
    {
     "name": "stdout",
     "output_type": "stream",
     "text": [
      "Estimating biases using als...\n",
      "Computing the cosine similarity matrix...\n",
      "Done computing similarity matrix.\n"
     ]
    },
    {
     "data": {
      "text/plain": [
       "<surprise.prediction_algorithms.knns.KNNBaseline at 0x1206d4c18>"
      ]
     },
     "execution_count": 31,
     "metadata": {},
     "output_type": "execute_result"
    },
    {
     "name": "stdout",
     "output_type": "stream",
     "text": [
      "MAE:  0.6960\n",
      "MSE: 1.6948\n"
     ]
    }
   ],
   "source": [
    "# Test set\n",
    "\n",
    "knn_model = KNNBaseline(k=50, min_k=2, sim_options={'name': 'cosine'})\n",
    "knn_model.fit(nlp_train_set)\n",
    "predictions = knn_model.test(test_set)\n",
    "_, _ = print_metrics_sp(predictions)"
   ]
  }
 ],
 "metadata": {
  "kernelspec": {
   "display_name": "Python 3",
   "language": "python",
   "name": "python3"
  },
  "language_info": {
   "codemirror_mode": {
    "name": "ipython",
    "version": 3
   },
   "file_extension": ".py",
   "mimetype": "text/x-python",
   "name": "python",
   "nbconvert_exporter": "python",
   "pygments_lexer": "ipython3",
   "version": "3.7.1"
  },
  "toc": {
   "base_numbering": 1,
   "nav_menu": {},
   "number_sections": true,
   "sideBar": true,
   "skip_h1_title": false,
   "title_cell": "Table of Contents",
   "title_sidebar": "Contents",
   "toc_cell": true,
   "toc_position": {
    "height": "calc(100% - 180px)",
    "left": "10px",
    "top": "150px",
    "width": "284px"
   },
   "toc_section_display": true,
   "toc_window_display": true
  },
  "varInspector": {
   "cols": {
    "lenName": 16,
    "lenType": 16,
    "lenVar": 40
   },
   "kernels_config": {
    "python": {
     "delete_cmd_postfix": "",
     "delete_cmd_prefix": "del ",
     "library": "var_list.py",
     "varRefreshCmd": "print(var_dic_list())"
    },
    "r": {
     "delete_cmd_postfix": ") ",
     "delete_cmd_prefix": "rm(",
     "library": "var_list.r",
     "varRefreshCmd": "cat(var_dic_list()) "
    }
   },
   "types_to_exclude": [
    "module",
    "function",
    "builtin_function_or_method",
    "instance",
    "_Feature"
   ],
   "window_display": false
  }
 },
 "nbformat": 4,
 "nbformat_minor": 4
}
